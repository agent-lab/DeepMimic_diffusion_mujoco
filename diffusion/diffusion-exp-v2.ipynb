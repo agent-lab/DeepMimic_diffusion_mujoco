{
 "cells": [
  {
   "cell_type": "code",
   "execution_count": 25,
   "metadata": {},
   "outputs": [
    {
     "data": {
      "text/plain": [
       "('/home/kenji/Fyp/DeepMimic_mujoco',\n",
       " '/home/kenji/Fyp/DeepMimic_mujoco/diffusion')"
      ]
     },
     "execution_count": 25,
     "metadata": {},
     "output_type": "execute_result"
    }
   ],
   "source": [
    "import sys\n",
    "import os\n",
    "\n",
    "path0 = os.path.abspath(os.path.join('.'))\n",
    "path = os.path.abspath(os.path.join('..'))\n",
    "if path not in sys.path:\n",
    "    sys.path.append(path)\n",
    "    sys.path.append(path0)\n",
    "path, path0"
   ]
  },
  {
   "cell_type": "code",
   "execution_count": 26,
   "metadata": {},
   "outputs": [
    {
     "name": "stdout",
     "output_type": "stream",
     "text": [
      "torch.Size([78, 44])\n"
     ]
    },
    {
     "data": {
      "text/plain": [
       "(16, torch.Size([16, 78, 44]))"
      ]
     },
     "execution_count": 26,
     "metadata": {},
     "output_type": "execute_result"
    }
   ],
   "source": [
    "from diffusion.data_loaders.report_dataset import SpinkickPureFramesDataset\n",
    "dataset = SpinkickPureFramesDataset(\"/home/kenji/Fyp/DeepMimic_mujoco/diffusion/data/motions/humanoid3d_spinkick.txt\")\n",
    "len(dataset), dataset.motion_data.shape"
   ]
  },
  {
   "cell_type": "code",
   "execution_count": 27,
   "metadata": {},
   "outputs": [
    {
     "data": {
      "text/plain": [
       "tensor([[ 0.0167,  0.0000,  0.8251,  ..., -0.3155,  0.2235,  1.4452],\n",
       "        [ 0.0167, -0.0098,  0.8223,  ..., -0.2932,  0.2308,  1.4881],\n",
       "        [ 0.0167, -0.0205,  0.8187,  ..., -0.2659,  0.2363,  1.5274],\n",
       "        ...,\n",
       "        [ 0.0167,  0.4499,  0.7884,  ..., -0.3115,  0.1044,  1.2661],\n",
       "        [ 0.0167,  0.4598,  0.8026,  ..., -0.2961,  0.0695,  1.1802],\n",
       "        [ 0.0000,  0.4689,  0.8251,  ..., -0.2681,  0.0327,  1.1281]])"
      ]
     },
     "execution_count": 27,
     "metadata": {},
     "output_type": "execute_result"
    }
   ],
   "source": [
    "dataset[0]"
   ]
  },
  {
   "cell_type": "markdown",
   "metadata": {},
   "source": [
    "### Model NN"
   ]
  },
  {
   "cell_type": "code",
   "execution_count": 28,
   "metadata": {},
   "outputs": [],
   "source": [
    "import numpy as np\n",
    "import torch\n",
    "import torch.nn as nn\n",
    "import torch.nn.functional as F\n",
    "\n",
    "class PositionalEncoding(nn.Module):\n",
    "    def __init__(self, d_model, dropout=0.1, max_len=1000):\n",
    "        super(PositionalEncoding, self).__init__()\n",
    "        self.dropout = nn.Dropout(p=dropout)\n",
    "\n",
    "        pe = torch.zeros(max_len, d_model)\n",
    "        position = torch.arange(0, max_len, dtype=torch.float).unsqueeze(1)\n",
    "        div_term = torch.exp(torch.arange(0, d_model, 2).float() * (-np.log(10000.0) / d_model))\n",
    "        pe[:, 0::2] = torch.sin(position * div_term)\n",
    "        pe[:, 1::2] = torch.cos(position * div_term)\n",
    "        pe = pe.unsqueeze(0).transpose(0, 1)\n",
    "\n",
    "        self.register_buffer('pe', pe)\n",
    "\n",
    "    def forward(self, x):\n",
    "        # not used in the final model\n",
    "        x = x + self.pe[:x.shape[0], :]\n",
    "        return self.dropout(x)\n",
    "\n",
    "\n",
    "class TimestepEmbedder(nn.Module):\n",
    "    def __init__(self, latent_dim, sequence_pos_encoder):\n",
    "        super().__init__()\n",
    "        self.latent_dim = latent_dim\n",
    "        self.sequence_pos_encoder = sequence_pos_encoder\n",
    "\n",
    "        time_embed_dim = self.latent_dim\n",
    "        self.time_embed = nn.Sequential(\n",
    "            nn.Linear(self.latent_dim, time_embed_dim),\n",
    "            nn.SiLU(),\n",
    "            nn.Linear(time_embed_dim, time_embed_dim),\n",
    "        )\n",
    "\n",
    "    def forward(self, timesteps):\n",
    "        return self.time_embed(self.sequence_pos_encoder.pe[timesteps])"
   ]
  },
  {
   "cell_type": "code",
   "execution_count": 29,
   "metadata": {},
   "outputs": [],
   "source": [
    "class MotionTransformer(nn.Module):\n",
    "    def __init__(self, frame_dim, latent_dim=256, ff_size=1024, num_layers=8, num_heads=4, dropout=0.1, activation=\"gelu\"):\n",
    "        super(MotionTransformer, self).__init__()\n",
    "        \n",
    "        # self.nfeats = nfeats\n",
    "        self.frame_dim = frame_dim\n",
    "        self.latent_dim = latent_dim\n",
    "        self.ff_size = ff_size  \n",
    "        self.dropout = dropout\n",
    "\n",
    "        self.frameEmbedding = nn.Linear(self.frame_dim, self.latent_dim)\n",
    "        self.sequence_pos_encoder = PositionalEncoding(self.latent_dim, self.dropout)\n",
    "        self.embed_timestep = TimestepEmbedder(self.latent_dim, self.sequence_pos_encoder)\n",
    "\n",
    "        # Transformer Encoder\n",
    "        encoder_layers = nn.TransformerEncoderLayer(d_model=self.latent_dim, nhead=num_heads, \n",
    "                                                    dim_feedforward=ff_size, dropout=dropout, activation=activation, batch_first=True)\n",
    "        self.transformer_encoder = nn.TransformerEncoder(encoder_layers, num_layers=num_layers)\n",
    "\n",
    "        # Output Linear Layer\n",
    "        self.frameOutEmbedding = nn.Linear(self.latent_dim, self.frame_dim)\n",
    "\n",
    "    def forward(self, x: torch.Tensor, timesteps, y=None, verbose=False):\n",
    "        \"\"\"\n",
    "        x: [batch_size, max_frames, n_feats], denoted x_t in the paper\n",
    "        timesteps: [batch_size] (int)\n",
    "        \"\"\"\n",
    "        # x: [batch_size, seq_len, nfeats]\n",
    "        emb = self.embed_timestep(timesteps)  # [bs, n_frames, time_embed_dim]\n",
    "        if verbose:\n",
    "            print(\"Emb\", emb.shape)\n",
    "            print(emb)\n",
    "\n",
    "        x = self.frameEmbedding(x) # [bs, n_frames, n_dim]\n",
    "        if verbose:\n",
    "            print(\"Frame Embedding\", x.shape)\n",
    "            print(x)\n",
    "\n",
    "        # Transformer Encoder\n",
    "        # adding the timestep embed\n",
    "        xseq = torch.cat((emb, x), axis=1)  # [bs, n_frames+1, n_dim]\n",
    "        if verbose:\n",
    "            print(\"Concat x and zkx\", xseq.shape)\n",
    "            print(xseq)\n",
    "\n",
    "        xseq = self.sequence_pos_encoder(xseq)  # [bs, n_frames+1, n_dim]\n",
    "        if verbose:\n",
    "            print(\"Sequence Pos Encoder\", xseq.shape)\n",
    "            print(xseq)\n",
    "\n",
    "        output = self.transformer_encoder(xseq)[:, 1:, :]  # , src_key_padding_mask=~maskseq)  # [bs, n_frames, n_dim]\n",
    "        if verbose:\n",
    "            print(\"Transformer Encoder\", output.shape)\n",
    "            print(output)\n",
    "\n",
    "        # Output Linear\n",
    "        output = self.frameOutEmbedding(output)\n",
    "        if verbose:\n",
    "            print(\"Output Embedding\", output.shape)\n",
    "            print(output)\n",
    "\n",
    "        return output"
   ]
  },
  {
   "cell_type": "code",
   "execution_count": 30,
   "metadata": {},
   "outputs": [
    {
     "data": {
      "text/plain": [
       "(44, tensor(0.0167))"
      ]
     },
     "execution_count": 30,
     "metadata": {},
     "output_type": "execute_result"
    }
   ],
   "source": [
    "from torch.utils.data import DataLoader\n",
    "\n",
    "batch_size = 1\n",
    "dataloader = DataLoader(\n",
    "        dataset, batch_size=batch_size, shuffle=True)\n",
    "\n",
    "frame_dim = dataset[0].shape[1]\n",
    "duration = dataset[0][0][0]\n",
    "\n",
    "device = torch.device(\"cuda:0\" if torch.cuda.is_available() else \"cpu\")\n",
    "model = MotionTransformer(frame_dim=frame_dim, latent_dim=64, ff_size=256, num_layers=8, num_heads=4, dropout=0.1, activation=\"gelu\").to(device)\n",
    "\n",
    "frame_dim, duration"
   ]
  },
  {
   "cell_type": "code",
   "execution_count": 31,
   "metadata": {},
   "outputs": [
    {
     "name": "stdout",
     "output_type": "stream",
     "text": [
      "torch.Size([1, 78, 44])\n",
      "Emb torch.Size([1, 1, 64])\n",
      "tensor([[[-1.4030e-02,  1.7927e-01, -2.1890e-02, -2.4592e-01, -5.0784e-02,\n",
      "           3.4424e-01,  2.2998e-02, -1.0769e-01,  1.6136e-02, -9.7934e-02,\n",
      "           2.3989e-01, -2.2320e-02,  1.4624e-02, -3.9569e-02, -3.1032e-01,\n",
      "          -1.4733e-01, -2.6958e-01, -2.2703e-01, -1.8168e-01, -1.0929e-02,\n",
      "          -2.2769e-01,  1.8720e-01,  8.2235e-02, -1.2610e-02, -1.7831e-02,\n",
      "          -1.3792e-01,  1.9889e-02,  3.8692e-02, -1.7119e-01,  5.4054e-02,\n",
      "          -1.1408e-01,  1.5402e-02,  7.3161e-02,  1.5085e-01,  2.7670e-01,\n",
      "           1.3350e-01, -9.8427e-02,  1.0871e-01, -5.1510e-02,  1.5777e-01,\n",
      "           1.2632e-01, -2.9219e-02,  2.3348e-02,  2.3807e-01,  2.3947e-01,\n",
      "           2.4656e-02, -4.9694e-02, -4.2554e-02, -5.1662e-02,  1.1118e-04,\n",
      "           1.2233e-01,  9.9781e-02, -1.3964e-01, -2.5684e-01, -3.5022e-02,\n",
      "          -9.1154e-02,  6.4052e-02,  8.1167e-02, -5.8010e-02,  6.2802e-02,\n",
      "          -1.3023e-01,  1.6333e-01,  1.3121e-01,  8.1119e-02]]],\n",
      "       device='cuda:0', grad_fn=<ViewBackward0>)\n",
      "Frame Embedding torch.Size([1, 78, 64])\n",
      "tensor([[[ 0.0313,  0.6351, -0.4949,  ...,  0.5134, -0.1462, -0.2112],\n",
      "         [ 0.0264,  0.6528, -0.4887,  ...,  0.5251, -0.1667, -0.2102],\n",
      "         [ 0.0246,  0.6708, -0.4823,  ...,  0.5374, -0.1833, -0.2106],\n",
      "         ...,\n",
      "         [ 0.0734,  0.7298, -0.4766,  ...,  0.3209, -0.0980,  0.0803],\n",
      "         [ 0.0665,  0.7271, -0.4685,  ...,  0.3121, -0.0979,  0.0812],\n",
      "         [ 0.0591,  0.7329, -0.4597,  ...,  0.3147, -0.0998,  0.0713]]],\n",
      "       device='cuda:0', grad_fn=<ViewBackward0>)\n",
      "Concat x and zkx torch.Size([1, 79, 64])\n"
     ]
    },
    {
     "name": "stdout",
     "output_type": "stream",
     "text": [
      "tensor([[[-0.0140,  0.1793, -0.0219,  ...,  0.1633,  0.1312,  0.0811],\n",
      "         [ 0.0313,  0.6351, -0.4949,  ...,  0.5134, -0.1462, -0.2112],\n",
      "         [ 0.0264,  0.6528, -0.4887,  ...,  0.5251, -0.1667, -0.2102],\n",
      "         ...,\n",
      "         [ 0.0734,  0.7298, -0.4766,  ...,  0.3209, -0.0980,  0.0803],\n",
      "         [ 0.0665,  0.7271, -0.4685,  ...,  0.3121, -0.0979,  0.0812],\n",
      "         [ 0.0591,  0.7329, -0.4597,  ...,  0.3147, -0.0998,  0.0713]]],\n",
      "       device='cuda:0', grad_fn=<CatBackward0>)\n",
      "Sequence Pos Encoder torch.Size([1, 79, 64])\n",
      "tensor([[[-0.0156,  1.3103, -0.0000,  ...,  1.2926,  0.1458,  0.0000],\n",
      "         [ 0.0348,  1.8167, -0.5499,  ...,  1.6816, -0.1624,  0.8765],\n",
      "         [ 0.0294,  0.0000, -0.5431,  ...,  1.6945, -0.1853,  0.8776],\n",
      "         ...,\n",
      "         [ 0.0815,  1.9220, -0.5295,  ...,  0.0000, -0.1089,  1.2003],\n",
      "         [ 0.0739,  1.9190, -0.5205,  ...,  1.4578, -0.1088,  1.2014],\n",
      "         [ 0.0656,  1.9254, -0.0000,  ...,  0.0000, -0.1108,  1.1903]]],\n",
      "       device='cuda:0', grad_fn=<NativeDropoutBackward0>)\n",
      "Transformer Encoder torch.Size([1, 78, 64])\n",
      "tensor([[[ 0.4489, -0.5624, -0.3720,  ..., -0.3043,  0.0941, -1.6814],\n",
      "         [ 0.4634, -1.0627, -0.2102,  ..., -0.2652,  0.2831, -1.2611],\n",
      "         [ 0.3947, -0.2798, -0.0541,  ..., -0.7144,  0.0576, -1.3208],\n",
      "         ...,\n",
      "         [ 0.4264, -0.5882, -0.0054,  ..., -0.2125,  0.3504, -1.3682],\n",
      "         [ 0.6344, -0.2246,  0.0762,  ..., -0.3416,  0.2837, -1.3672],\n",
      "         [ 0.7195, -0.6942,  0.3377,  ..., -0.6523,  0.3752, -1.6042]]],\n",
      "       device='cuda:0', grad_fn=<SliceBackward0>)\n",
      "Output Embedding torch.Size([1, 78, 44])\n",
      "tensor([[[ 0.8462,  0.8624,  0.5171,  ..., -0.0383,  0.8950,  0.7929],\n",
      "         [ 0.8020,  1.0458,  0.5722,  ...,  0.1585,  0.6908,  1.2458],\n",
      "         [ 0.8169,  0.7882,  0.6264,  ..., -0.1945,  0.4693,  0.8503],\n",
      "         ...,\n",
      "         [ 0.6040,  1.0664,  0.8128,  ...,  0.3059,  0.3636,  1.3949],\n",
      "         [ 0.5998,  1.1218,  0.6720,  ...,  0.1916,  0.5820,  1.3243],\n",
      "         [ 0.5049,  0.9878,  0.7889,  ...,  0.0901,  0.3992,  1.0322]]],\n",
      "       device='cuda:0', grad_fn=<ViewBackward0>)\n"
     ]
    },
    {
     "data": {
      "text/plain": [
       "torch.Size([1, 78, 44])"
      ]
     },
     "execution_count": 31,
     "metadata": {},
     "output_type": "execute_result"
    }
   ],
   "source": [
    "test_sample = dataset[0].unsqueeze(0).to(device)    \n",
    "print(test_sample.shape)\n",
    "\n",
    "res = model(test_sample, torch.tensor([0]).to(device), verbose=True)\n",
    "res.shape"
   ]
  },
  {
   "cell_type": "code",
   "execution_count": 37,
   "metadata": {},
   "outputs": [],
   "source": [
    "from diffusion.diffusion import gaussian_diffusion as gd\n",
    "from diffusion.diffusion.respace import SpacedDiffusion, space_timesteps\n",
    "\n",
    "def create_gaussian_diffusion(\n",
    "        diffusion_steps, # number eg 1000\n",
    "        noise_schedule, # can be 'linear', 'cosine'\n",
    "        sigma_small, # default True\n",
    "        lambda_vel, lambda_rcxyz, lambda_fc # for geometric loss, we don't have fc, default 1 for rest\n",
    "        ):\n",
    "    # default params\n",
    "    predict_xstart = True  # we always predict x_start (a.k.a. x0), that's our deal!\n",
    "    steps = diffusion_steps\n",
    "    scale_beta = 1.  # no scaling\n",
    "    timestep_respacing = ''  # can be used for ddim sampling, we don't use it.\n",
    "    learn_sigma = False\n",
    "    rescale_timesteps = False\n",
    "\n",
    "    betas = gd.get_named_beta_schedule(noise_schedule, steps, scale_beta)\n",
    "    loss_type = gd.LossType.MSE\n",
    "\n",
    "    if not timestep_respacing:\n",
    "        timestep_respacing = [steps]\n",
    "\n",
    "    return SpacedDiffusion(\n",
    "        use_timesteps=space_timesteps(steps, timestep_respacing),\n",
    "        betas=betas,\n",
    "        model_mean_type=(\n",
    "            gd.ModelMeanType.EPSILON if not predict_xstart else gd.ModelMeanType.START_X\n",
    "        ),\n",
    "        model_var_type=(\n",
    "            (\n",
    "                gd.ModelVarType.FIXED_LARGE\n",
    "                if not sigma_small\n",
    "                else gd.ModelVarType.FIXED_SMALL\n",
    "            )\n",
    "            if not learn_sigma\n",
    "            else gd.ModelVarType.LEARNED_RANGE\n",
    "        ),\n",
    "        loss_type=loss_type,\n",
    "        rescale_timesteps=rescale_timesteps,\n",
    "        lambda_vel=lambda_vel,\n",
    "        lambda_rcxyz=lambda_rcxyz,\n",
    "        lambda_fc=lambda_fc,\n",
    "    )"
   ]
  },
  {
   "cell_type": "code",
   "execution_count": 38,
   "metadata": {},
   "outputs": [],
   "source": [
    "model = MotionTransformer(frame_dim=frame_dim, latent_dim=256, ff_size=128, num_layers=8, num_heads=8, dropout=0.1, activation=\"gelu\").to(device)\n",
    "diffusion = create_gaussian_diffusion(diffusion_steps=1000, noise_schedule=\"cosine\", sigma_small=True, lambda_vel=10, lambda_rcxyz=10, lambda_fc=0)"
   ]
  },
  {
   "cell_type": "code",
   "execution_count": 39,
   "metadata": {},
   "outputs": [],
   "source": [
    "class DefaultArgs:\n",
    "    def __init__(self, save_dir, model_path, eval_model_path):\n",
    "        # Base options\n",
    "        self.cuda = True\n",
    "        self.device = \"cuda:0\" if torch.cuda.is_available() else \"cpu\"\n",
    "        self.seed = 10\n",
    "        self.batch_size = 1\n",
    "\n",
    "        # Diffusion options\n",
    "        self.noise_schedule = 'cosine'\n",
    "        self.diffusion_steps = 1000\n",
    "        self.sigma_small = True\n",
    "\n",
    "        # Model options\n",
    "        self.arch = 'trans_enc'\n",
    "        self.emb_trans_dec = False\n",
    "        self.layers = 8\n",
    "        self.latent_dim = 128\n",
    "        self.cond_mask_prob = 0\n",
    "        self.lambda_rcxyz = 10\n",
    "        self.lambda_vel = 10\n",
    "        self.lambda_fc = 0\n",
    "        self.unconstrained = False  # This is inferred from the 'action' parameter\n",
    "\n",
    "        # Data options\n",
    "        self.dataset = ''\n",
    "        self.data_dir = \"\"\n",
    "\n",
    "        # Training options\n",
    "        self.save_dir = save_dir\n",
    "        self.overwrite = False\n",
    "        self.train_platform_type = 'NoPlatform'\n",
    "        self.lr = 1e-4\n",
    "        self.weight_decay = 0.0\n",
    "        self.lr_anneal_steps = 0\n",
    "        self.eval_batch_size = 16\n",
    "        self.eval_split = 'test'\n",
    "        self.eval_during_training = False\n",
    "        self.eval_rep_times = 3\n",
    "        self.eval_num_samples = 1000\n",
    "        self.log_interval = 150\n",
    "        self.save_interval = 1000\n",
    "        self.num_steps = 5000\n",
    "        # self.num_frames = 29\n",
    "        self.resume_checkpoint = \"\"\n",
    "\n",
    "        # Sampling options\n",
    "        self.model_path = model_path\n",
    "        self.output_dir = ''\n",
    "        self.num_samples = 10\n",
    "        self.num_repetitions = 3\n",
    "        self.guidance_param = 2.5\n",
    "\n",
    "        # Generate options\n",
    "        self.motion_length = 6.0\n",
    "        self.input_text = ''\n",
    "        self.action_file = ''\n",
    "        self.text_prompt = ''\n",
    "        self.action_name = ''\n",
    "\n",
    "        # Edit options\n",
    "        self.edit_mode = 'in_between'\n",
    "        self.text_condition = ''\n",
    "        self.prefix_end = 0.25\n",
    "        self.suffix_start = 0.75\n",
    "\n",
    "        # Evaluation options\n",
    "        self.eval_model_path = eval_model_path\n",
    "        self.eval_mode = 'wo_mm'\n",
    "        self.eval_guidance_param = 2.5\n"
   ]
  },
  {
   "cell_type": "code",
   "execution_count": 40,
   "metadata": {},
   "outputs": [
    {
     "data": {
      "text/plain": [
       "'cuda:0'"
      ]
     },
     "execution_count": 40,
     "metadata": {},
     "output_type": "execute_result"
    }
   ],
   "source": [
    "expname = \"report-dissertation-3\"\n",
    "\n",
    "args = DefaultArgs(save_dir=f\"/home/kenji/Fyp/DeepMimic_mujoco/diffusion/logs/{expname}\", model_path=f\"/home/kenji/Fyp/DeepMimic_mujoco/diffusion/logs/{expname}/model.pt\", eval_model_path=f\"/home/kenji/Fyp/DeepMimic_mujoco/diffusion/logs/{expname}/model.pt\")\n",
    "args.device"
   ]
  },
  {
   "cell_type": "code",
   "execution_count": 41,
   "metadata": {},
   "outputs": [
    {
     "name": "stdout",
     "output_type": "stream",
     "text": [
      "Starting epoch 0/313\n"
     ]
    },
    {
     "name": "stderr",
     "output_type": "stream",
     "text": [
      "  0%|          | 0/16 [00:00<?, ?it/s]"
     ]
    },
    {
     "name": "stdout",
     "output_type": "stream",
     "text": [
      "----------------------------\n",
      "| frame_loss    | 253      |\n",
      "| frame_loss_q0 | 278      |\n",
      "| frame_loss_q1 | 215      |\n",
      "| frame_loss_q2 | 223      |\n",
      "| frame_loss_q3 | 296      |\n",
      "| grad_norm     | 1.32e+03 |\n",
      "| loss          | 1.3e+03  |\n",
      "| loss_q0       | 1.3e+03  |\n",
      "| loss_q1       | 1.32e+03 |\n",
      "| loss_q2       | 1.25e+03 |\n",
      "| loss_q3       | 1.35e+03 |\n",
      "| param_norm    | 95.6     |\n",
      "| rcxyz_mse     | 46.1     |\n",
      "| rcxyz_mse_q0  | 45.1     |\n",
      "| rcxyz_mse_q1  | 46.3     |\n",
      "| rcxyz_mse_q2  | 45.4     |\n",
      "| rcxyz_mse_q3  | 47.6     |\n",
      "| samples       | 1        |\n",
      "| step          | 0        |\n",
      "| vel_mse       | 59       |\n",
      "| vel_mse_q0    | 57.2     |\n",
      "| vel_mse_q1    | 64       |\n",
      "| vel_mse_q2    | 57.3     |\n",
      "| vel_mse_q3    | 58.1     |\n",
      "----------------------------\n",
      "step[0]: loss[1303.91920]\n",
      "saving model...\n"
     ]
    },
    {
     "name": "stderr",
     "output_type": "stream",
     "text": [
      "  6%|▋         | 1/16 [00:00<00:08,  1.87it/s]"
     ]
    },
    {
     "name": "stdout",
     "output_type": "stream",
     "text": [
      "Skipping evaluation for now.\n"
     ]
    },
    {
     "name": "stderr",
     "output_type": "stream",
     "text": [
      "100%|██████████| 16/16 [00:05<00:00,  2.86it/s]\n"
     ]
    },
    {
     "name": "stdout",
     "output_type": "stream",
     "text": [
      "Starting epoch 1/313\n"
     ]
    },
    {
     "name": "stderr",
     "output_type": "stream",
     "text": [
      "100%|██████████| 16/16 [00:05<00:00,  3.02it/s]\n"
     ]
    },
    {
     "name": "stdout",
     "output_type": "stream",
     "text": [
      "Starting epoch 2/313\n"
     ]
    },
    {
     "name": "stderr",
     "output_type": "stream",
     "text": [
      "100%|██████████| 16/16 [00:05<00:00,  2.98it/s]\n"
     ]
    },
    {
     "name": "stdout",
     "output_type": "stream",
     "text": [
      "Starting epoch 3/313\n"
     ]
    },
    {
     "name": "stderr",
     "output_type": "stream",
     "text": [
      "100%|██████████| 16/16 [00:05<00:00,  2.94it/s]\n"
     ]
    },
    {
     "name": "stdout",
     "output_type": "stream",
     "text": [
      "Starting epoch 4/313\n"
     ]
    },
    {
     "name": "stderr",
     "output_type": "stream",
     "text": [
      "100%|██████████| 16/16 [00:05<00:00,  3.02it/s]\n"
     ]
    },
    {
     "name": "stdout",
     "output_type": "stream",
     "text": [
      "Starting epoch 5/313\n"
     ]
    },
    {
     "name": "stderr",
     "output_type": "stream",
     "text": [
      "100%|██████████| 16/16 [00:05<00:00,  2.99it/s]\n"
     ]
    },
    {
     "name": "stdout",
     "output_type": "stream",
     "text": [
      "Starting epoch 6/313\n"
     ]
    },
    {
     "name": "stderr",
     "output_type": "stream",
     "text": [
      "100%|██████████| 16/16 [00:05<00:00,  3.03it/s]\n"
     ]
    },
    {
     "name": "stdout",
     "output_type": "stream",
     "text": [
      "Starting epoch 7/313\n"
     ]
    },
    {
     "name": "stderr",
     "output_type": "stream",
     "text": [
      "100%|██████████| 16/16 [00:05<00:00,  3.00it/s]\n"
     ]
    },
    {
     "name": "stdout",
     "output_type": "stream",
     "text": [
      "Starting epoch 8/313\n"
     ]
    },
    {
     "name": "stderr",
     "output_type": "stream",
     "text": [
      "100%|██████████| 16/16 [00:05<00:00,  2.96it/s]\n"
     ]
    },
    {
     "name": "stdout",
     "output_type": "stream",
     "text": [
      "Starting epoch 9/313\n"
     ]
    },
    {
     "name": "stderr",
     "output_type": "stream",
     "text": [
      " 38%|███▊      | 6/16 [00:02<00:03,  2.95it/s]"
     ]
    },
    {
     "name": "stdout",
     "output_type": "stream",
     "text": [
      "----------------------------\n",
      "| frame_loss    | 231      |\n",
      "| frame_loss_q0 | 198      |\n",
      "| frame_loss_q1 | 220      |\n",
      "| frame_loss_q2 | 218      |\n",
      "| frame_loss_q3 | 296      |\n",
      "| grad_norm     | 1.13e+03 |\n",
      "| loss          | 1.26e+03 |\n",
      "| loss_q0       | 1.15e+03 |\n",
      "| loss_q1       | 1.25e+03 |\n",
      "| loss_q2       | 1.27e+03 |\n",
      "| loss_q3       | 1.38e+03 |\n",
      "| param_norm    | 95.6     |\n",
      "| rcxyz_mse     | 45.5     |\n",
      "| rcxyz_mse_q0  | 39.3     |\n",
      "| rcxyz_mse_q1  | 44.3     |\n",
      "| rcxyz_mse_q2  | 47.5     |\n",
      "| rcxyz_mse_q3  | 51.1     |\n",
      "| samples       | 151      |\n",
      "| step          | 150      |\n",
      "| vel_mse       | 57.4     |\n",
      "| vel_mse_q0    | 55.5     |\n",
      "| vel_mse_q1    | 58.5     |\n",
      "| vel_mse_q2    | 57.7     |\n",
      "| vel_mse_q3    | 57.5     |\n",
      "----------------------------\n"
     ]
    },
    {
     "name": "stderr",
     "output_type": "stream",
     "text": [
      " 44%|████▍     | 7/16 [00:02<00:03,  2.97it/s]"
     ]
    },
    {
     "name": "stdout",
     "output_type": "stream",
     "text": [
      "step[150]: loss[1259.69769]\n"
     ]
    },
    {
     "name": "stderr",
     "output_type": "stream",
     "text": [
      "100%|██████████| 16/16 [00:05<00:00,  2.96it/s]\n"
     ]
    },
    {
     "name": "stdout",
     "output_type": "stream",
     "text": [
      "Starting epoch 10/313\n"
     ]
    },
    {
     "name": "stderr",
     "output_type": "stream",
     "text": [
      "100%|██████████| 16/16 [00:05<00:00,  2.89it/s]\n"
     ]
    },
    {
     "name": "stdout",
     "output_type": "stream",
     "text": [
      "Starting epoch 11/313\n"
     ]
    },
    {
     "name": "stderr",
     "output_type": "stream",
     "text": [
      "100%|██████████| 16/16 [00:05<00:00,  2.88it/s]\n"
     ]
    },
    {
     "name": "stdout",
     "output_type": "stream",
     "text": [
      "Starting epoch 12/313\n"
     ]
    },
    {
     "name": "stderr",
     "output_type": "stream",
     "text": [
      "100%|██████████| 16/16 [00:05<00:00,  2.96it/s]\n"
     ]
    },
    {
     "name": "stdout",
     "output_type": "stream",
     "text": [
      "Starting epoch 13/313\n"
     ]
    },
    {
     "name": "stderr",
     "output_type": "stream",
     "text": [
      "100%|██████████| 16/16 [00:05<00:00,  2.90it/s]\n"
     ]
    },
    {
     "name": "stdout",
     "output_type": "stream",
     "text": [
      "Starting epoch 14/313\n"
     ]
    },
    {
     "name": "stderr",
     "output_type": "stream",
     "text": [
      "100%|██████████| 16/16 [00:05<00:00,  3.03it/s]\n"
     ]
    },
    {
     "name": "stdout",
     "output_type": "stream",
     "text": [
      "Starting epoch 15/313\n"
     ]
    },
    {
     "name": "stderr",
     "output_type": "stream",
     "text": [
      "100%|██████████| 16/16 [00:05<00:00,  2.93it/s]\n"
     ]
    },
    {
     "name": "stdout",
     "output_type": "stream",
     "text": [
      "Starting epoch 16/313\n"
     ]
    },
    {
     "name": "stderr",
     "output_type": "stream",
     "text": [
      "100%|██████████| 16/16 [00:05<00:00,  3.06it/s]\n"
     ]
    },
    {
     "name": "stdout",
     "output_type": "stream",
     "text": [
      "Starting epoch 17/313\n"
     ]
    },
    {
     "name": "stderr",
     "output_type": "stream",
     "text": [
      "100%|██████████| 16/16 [00:05<00:00,  3.00it/s]\n"
     ]
    },
    {
     "name": "stdout",
     "output_type": "stream",
     "text": [
      "Starting epoch 18/313\n"
     ]
    },
    {
     "name": "stderr",
     "output_type": "stream",
     "text": [
      " 75%|███████▌  | 12/16 [00:03<00:01,  2.99it/s]"
     ]
    },
    {
     "name": "stdout",
     "output_type": "stream",
     "text": [
      "----------------------------\n",
      "| frame_loss    | 178      |\n",
      "| frame_loss_q0 | 177      |\n",
      "| frame_loss_q1 | 177      |\n",
      "| frame_loss_q2 | 178      |\n",
      "| frame_loss_q3 | 181      |\n",
      "| grad_norm     | 460      |\n",
      "| loss          | 1.23e+03 |\n",
      "| loss_q0       | 1.21e+03 |\n",
      "| loss_q1       | 1.24e+03 |\n",
      "| loss_q2       | 1.25e+03 |\n",
      "| loss_q3       | 1.23e+03 |\n",
      "| param_norm    | 95.6     |\n",
      "| rcxyz_mse     | 46.1     |\n",
      "| rcxyz_mse_q0  | 43.5     |\n",
      "| rcxyz_mse_q1  | 47.4     |\n",
      "| rcxyz_mse_q2  | 47       |\n",
      "| rcxyz_mse_q3  | 47       |\n",
      "| samples       | 301      |\n",
      "| step          | 300      |\n",
      "| vel_mse       | 59.4     |\n",
      "| vel_mse_q0    | 60       |\n",
      "| vel_mse_q1    | 59.1     |\n",
      "| vel_mse_q2    | 59.7     |\n",
      "| vel_mse_q3    | 58.3     |\n",
      "----------------------------\n"
     ]
    },
    {
     "name": "stderr",
     "output_type": "stream",
     "text": [
      " 81%|████████▏ | 13/16 [00:04<00:00,  3.02it/s]"
     ]
    },
    {
     "name": "stdout",
     "output_type": "stream",
     "text": [
      "step[300]: loss[1232.87507]\n"
     ]
    },
    {
     "name": "stderr",
     "output_type": "stream",
     "text": [
      "100%|██████████| 16/16 [00:05<00:00,  3.05it/s]\n"
     ]
    },
    {
     "name": "stdout",
     "output_type": "stream",
     "text": [
      "Starting epoch 19/313\n"
     ]
    },
    {
     "name": "stderr",
     "output_type": "stream",
     "text": [
      "100%|██████████| 16/16 [00:05<00:00,  3.06it/s]\n"
     ]
    },
    {
     "name": "stdout",
     "output_type": "stream",
     "text": [
      "Starting epoch 20/313\n"
     ]
    },
    {
     "name": "stderr",
     "output_type": "stream",
     "text": [
      "100%|██████████| 16/16 [00:05<00:00,  3.03it/s]\n"
     ]
    },
    {
     "name": "stdout",
     "output_type": "stream",
     "text": [
      "Starting epoch 21/313\n"
     ]
    },
    {
     "name": "stderr",
     "output_type": "stream",
     "text": [
      "100%|██████████| 16/16 [00:05<00:00,  3.08it/s]\n"
     ]
    },
    {
     "name": "stdout",
     "output_type": "stream",
     "text": [
      "Starting epoch 22/313\n"
     ]
    },
    {
     "name": "stderr",
     "output_type": "stream",
     "text": [
      "100%|██████████| 16/16 [00:05<00:00,  3.08it/s]\n"
     ]
    },
    {
     "name": "stdout",
     "output_type": "stream",
     "text": [
      "Starting epoch 23/313\n"
     ]
    },
    {
     "name": "stderr",
     "output_type": "stream",
     "text": [
      "100%|██████████| 16/16 [00:05<00:00,  3.04it/s]\n"
     ]
    },
    {
     "name": "stdout",
     "output_type": "stream",
     "text": [
      "Starting epoch 24/313\n"
     ]
    },
    {
     "name": "stderr",
     "output_type": "stream",
     "text": [
      "100%|██████████| 16/16 [00:05<00:00,  3.06it/s]\n"
     ]
    },
    {
     "name": "stdout",
     "output_type": "stream",
     "text": [
      "Starting epoch 25/313\n"
     ]
    },
    {
     "name": "stderr",
     "output_type": "stream",
     "text": [
      "100%|██████████| 16/16 [00:05<00:00,  2.96it/s]\n"
     ]
    },
    {
     "name": "stdout",
     "output_type": "stream",
     "text": [
      "Starting epoch 26/313\n"
     ]
    },
    {
     "name": "stderr",
     "output_type": "stream",
     "text": [
      "100%|██████████| 16/16 [00:05<00:00,  3.04it/s]\n"
     ]
    },
    {
     "name": "stdout",
     "output_type": "stream",
     "text": [
      "Starting epoch 27/313\n"
     ]
    },
    {
     "name": "stderr",
     "output_type": "stream",
     "text": [
      "100%|██████████| 16/16 [00:05<00:00,  3.08it/s]\n"
     ]
    },
    {
     "name": "stdout",
     "output_type": "stream",
     "text": [
      "Starting epoch 28/313\n"
     ]
    },
    {
     "name": "stderr",
     "output_type": "stream",
     "text": [
      " 12%|█▎        | 2/16 [00:00<00:04,  3.14it/s]"
     ]
    },
    {
     "name": "stdout",
     "output_type": "stream",
     "text": [
      "----------------------------\n",
      "| frame_loss    | 166      |\n",
      "| frame_loss_q0 | 155      |\n",
      "| frame_loss_q1 | 160      |\n",
      "| frame_loss_q2 | 171      |\n",
      "| frame_loss_q3 | 179      |\n",
      "| grad_norm     | 611      |\n",
      "| loss          | 1.09e+03 |\n",
      "| loss_q0       | 1.07e+03 |\n",
      "| loss_q1       | 1.09e+03 |\n",
      "| loss_q2       | 1.04e+03 |\n",
      "| loss_q3       | 1.15e+03 |\n",
      "| param_norm    | 95.6     |\n",
      "| rcxyz_mse     | 40.8     |\n",
      "| rcxyz_mse_q0  | 39.2     |\n",
      "| rcxyz_mse_q1  | 40.8     |\n",
      "| rcxyz_mse_q2  | 39.2     |\n",
      "| rcxyz_mse_q3  | 44.5     |\n",
      "| samples       | 451      |\n",
      "| step          | 450      |\n",
      "| vel_mse       | 51.4     |\n",
      "| vel_mse_q0    | 52.6     |\n",
      "| vel_mse_q1    | 52.5     |\n",
      "| vel_mse_q2    | 48.2     |\n",
      "| vel_mse_q3    | 52.2     |\n",
      "----------------------------\n"
     ]
    },
    {
     "name": "stderr",
     "output_type": "stream",
     "text": [
      " 19%|█▉        | 3/16 [00:00<00:04,  3.15it/s]"
     ]
    },
    {
     "name": "stdout",
     "output_type": "stream",
     "text": [
      "step[450]: loss[1088.30141]\n"
     ]
    },
    {
     "name": "stderr",
     "output_type": "stream",
     "text": [
      "100%|██████████| 16/16 [00:05<00:00,  3.03it/s]\n"
     ]
    },
    {
     "name": "stdout",
     "output_type": "stream",
     "text": [
      "Starting epoch 29/313\n"
     ]
    },
    {
     "name": "stderr",
     "output_type": "stream",
     "text": [
      "100%|██████████| 16/16 [00:05<00:00,  3.05it/s]\n"
     ]
    },
    {
     "name": "stdout",
     "output_type": "stream",
     "text": [
      "Starting epoch 30/313\n"
     ]
    },
    {
     "name": "stderr",
     "output_type": "stream",
     "text": [
      "100%|██████████| 16/16 [00:05<00:00,  3.08it/s]\n"
     ]
    },
    {
     "name": "stdout",
     "output_type": "stream",
     "text": [
      "Starting epoch 31/313\n"
     ]
    },
    {
     "name": "stderr",
     "output_type": "stream",
     "text": [
      "100%|██████████| 16/16 [00:05<00:00,  3.02it/s]\n"
     ]
    },
    {
     "name": "stdout",
     "output_type": "stream",
     "text": [
      "Starting epoch 32/313\n"
     ]
    },
    {
     "name": "stderr",
     "output_type": "stream",
     "text": [
      "100%|██████████| 16/16 [00:05<00:00,  3.14it/s]\n"
     ]
    },
    {
     "name": "stdout",
     "output_type": "stream",
     "text": [
      "Starting epoch 33/313\n"
     ]
    },
    {
     "name": "stderr",
     "output_type": "stream",
     "text": [
      "100%|██████████| 16/16 [00:05<00:00,  3.03it/s]\n"
     ]
    },
    {
     "name": "stdout",
     "output_type": "stream",
     "text": [
      "Starting epoch 34/313\n"
     ]
    },
    {
     "name": "stderr",
     "output_type": "stream",
     "text": [
      "100%|██████████| 16/16 [00:05<00:00,  3.04it/s]\n"
     ]
    },
    {
     "name": "stdout",
     "output_type": "stream",
     "text": [
      "Starting epoch 35/313\n"
     ]
    },
    {
     "name": "stderr",
     "output_type": "stream",
     "text": [
      "100%|██████████| 16/16 [00:05<00:00,  2.95it/s]\n"
     ]
    },
    {
     "name": "stdout",
     "output_type": "stream",
     "text": [
      "Starting epoch 36/313\n"
     ]
    },
    {
     "name": "stderr",
     "output_type": "stream",
     "text": [
      "100%|██████████| 16/16 [00:05<00:00,  3.08it/s]\n"
     ]
    },
    {
     "name": "stdout",
     "output_type": "stream",
     "text": [
      "Starting epoch 37/313\n"
     ]
    },
    {
     "name": "stderr",
     "output_type": "stream",
     "text": [
      " 50%|█████     | 8/16 [00:02<00:02,  3.05it/s]"
     ]
    },
    {
     "name": "stdout",
     "output_type": "stream",
     "text": [
      "----------------------------\n",
      "| frame_loss    | 147      |\n",
      "| frame_loss_q0 | 113      |\n",
      "| frame_loss_q1 | 134      |\n",
      "| frame_loss_q2 | 160      |\n",
      "| frame_loss_q3 | 178      |\n",
      "| grad_norm     | 656      |\n",
      "| loss          | 834      |\n",
      "| loss_q0       | 833      |\n",
      "| loss_q1       | 761      |\n",
      "| loss_q2       | 819      |\n",
      "| loss_q3       | 891      |\n",
      "| param_norm    | 95.6     |\n",
      "| rcxyz_mse     | 30.5     |\n",
      "| rcxyz_mse_q0  | 26.1     |\n",
      "| rcxyz_mse_q1  | 28       |\n",
      "| rcxyz_mse_q2  | 32.8     |\n",
      "| rcxyz_mse_q3  | 34.4     |\n",
      "| samples       | 601      |\n",
      "| step          | 600      |\n",
      "| vel_mse       | 38.2     |\n",
      "| vel_mse_q0    | 45.9     |\n",
      "| vel_mse_q1    | 34.6     |\n",
      "| vel_mse_q2    | 33.1     |\n",
      "| vel_mse_q3    | 36.9     |\n",
      "----------------------------\n"
     ]
    },
    {
     "name": "stderr",
     "output_type": "stream",
     "text": [
      " 56%|█████▋    | 9/16 [00:02<00:02,  2.95it/s]"
     ]
    },
    {
     "name": "stdout",
     "output_type": "stream",
     "text": [
      "step[600]: loss[834.02490]\n"
     ]
    },
    {
     "name": "stderr",
     "output_type": "stream",
     "text": [
      "100%|██████████| 16/16 [00:05<00:00,  3.04it/s]\n"
     ]
    },
    {
     "name": "stdout",
     "output_type": "stream",
     "text": [
      "Starting epoch 38/313\n"
     ]
    },
    {
     "name": "stderr",
     "output_type": "stream",
     "text": [
      "100%|██████████| 16/16 [00:05<00:00,  3.17it/s]\n"
     ]
    },
    {
     "name": "stdout",
     "output_type": "stream",
     "text": [
      "Starting epoch 39/313\n"
     ]
    },
    {
     "name": "stderr",
     "output_type": "stream",
     "text": [
      "100%|██████████| 16/16 [00:05<00:00,  3.05it/s]\n"
     ]
    },
    {
     "name": "stdout",
     "output_type": "stream",
     "text": [
      "Starting epoch 40/313\n"
     ]
    },
    {
     "name": "stderr",
     "output_type": "stream",
     "text": [
      "100%|██████████| 16/16 [00:05<00:00,  3.10it/s]\n"
     ]
    },
    {
     "name": "stdout",
     "output_type": "stream",
     "text": [
      "Starting epoch 41/313\n"
     ]
    },
    {
     "name": "stderr",
     "output_type": "stream",
     "text": [
      "100%|██████████| 16/16 [00:05<00:00,  3.17it/s]\n"
     ]
    },
    {
     "name": "stdout",
     "output_type": "stream",
     "text": [
      "Starting epoch 42/313\n"
     ]
    },
    {
     "name": "stderr",
     "output_type": "stream",
     "text": [
      "100%|██████████| 16/16 [00:05<00:00,  3.11it/s]\n"
     ]
    },
    {
     "name": "stdout",
     "output_type": "stream",
     "text": [
      "Starting epoch 43/313\n"
     ]
    },
    {
     "name": "stderr",
     "output_type": "stream",
     "text": [
      "100%|██████████| 16/16 [00:05<00:00,  3.14it/s]\n"
     ]
    },
    {
     "name": "stdout",
     "output_type": "stream",
     "text": [
      "Starting epoch 44/313\n"
     ]
    },
    {
     "name": "stderr",
     "output_type": "stream",
     "text": [
      "100%|██████████| 16/16 [00:05<00:00,  3.11it/s]\n"
     ]
    },
    {
     "name": "stdout",
     "output_type": "stream",
     "text": [
      "Starting epoch 45/313\n"
     ]
    },
    {
     "name": "stderr",
     "output_type": "stream",
     "text": [
      "100%|██████████| 16/16 [00:05<00:00,  3.14it/s]\n"
     ]
    },
    {
     "name": "stdout",
     "output_type": "stream",
     "text": [
      "Starting epoch 46/313\n"
     ]
    },
    {
     "name": "stderr",
     "output_type": "stream",
     "text": [
      " 88%|████████▊ | 14/16 [00:04<00:00,  2.98it/s]"
     ]
    },
    {
     "name": "stdout",
     "output_type": "stream",
     "text": [
      "----------------------------\n",
      "| frame_loss    | 126      |\n",
      "| frame_loss_q0 | 84.5     |\n",
      "| frame_loss_q1 | 114      |\n",
      "| frame_loss_q2 | 155      |\n",
      "| frame_loss_q3 | 174      |\n",
      "| grad_norm     | 607      |\n",
      "| loss          | 851      |\n",
      "| loss_q0       | 848      |\n",
      "| loss_q1       | 715      |\n",
      "| loss_q2       | 830      |\n",
      "| loss_q3       | 997      |\n",
      "| param_norm    | 95.6     |\n",
      "| rcxyz_mse     | 27.1     |\n",
      "| rcxyz_mse_q0  | 18       |\n",
      "| rcxyz_mse_q1  | 22.8     |\n",
      "| rcxyz_mse_q2  | 32.9     |\n",
      "| rcxyz_mse_q3  | 39.4     |\n",
      "| samples       | 751      |\n",
      "| step          | 750      |\n",
      "| vel_mse       | 45.4     |\n",
      "| vel_mse_q0    | 58.4     |\n",
      "| vel_mse_q1    | 37.3     |\n",
      "| vel_mse_q2    | 34.6     |\n",
      "| vel_mse_q3    | 42.9     |\n",
      "----------------------------\n"
     ]
    },
    {
     "name": "stderr",
     "output_type": "stream",
     "text": [
      " 94%|█████████▍| 15/16 [00:04<00:00,  3.04it/s]"
     ]
    },
    {
     "name": "stdout",
     "output_type": "stream",
     "text": [
      "step[750]: loss[850.89879]\n"
     ]
    },
    {
     "name": "stderr",
     "output_type": "stream",
     "text": [
      "100%|██████████| 16/16 [00:05<00:00,  3.14it/s]\n"
     ]
    },
    {
     "name": "stdout",
     "output_type": "stream",
     "text": [
      "Starting epoch 47/313\n"
     ]
    },
    {
     "name": "stderr",
     "output_type": "stream",
     "text": [
      "100%|██████████| 16/16 [00:05<00:00,  3.10it/s]\n"
     ]
    },
    {
     "name": "stdout",
     "output_type": "stream",
     "text": [
      "Starting epoch 48/313\n"
     ]
    },
    {
     "name": "stderr",
     "output_type": "stream",
     "text": [
      "100%|██████████| 16/16 [00:05<00:00,  3.06it/s]\n"
     ]
    },
    {
     "name": "stdout",
     "output_type": "stream",
     "text": [
      "Starting epoch 49/313\n"
     ]
    },
    {
     "name": "stderr",
     "output_type": "stream",
     "text": [
      "100%|██████████| 16/16 [00:05<00:00,  3.03it/s]\n"
     ]
    },
    {
     "name": "stdout",
     "output_type": "stream",
     "text": [
      "Starting epoch 50/313\n"
     ]
    },
    {
     "name": "stderr",
     "output_type": "stream",
     "text": [
      "100%|██████████| 16/16 [00:05<00:00,  3.08it/s]\n"
     ]
    },
    {
     "name": "stdout",
     "output_type": "stream",
     "text": [
      "Starting epoch 51/313\n"
     ]
    },
    {
     "name": "stderr",
     "output_type": "stream",
     "text": [
      "100%|██████████| 16/16 [00:05<00:00,  3.12it/s]\n"
     ]
    },
    {
     "name": "stdout",
     "output_type": "stream",
     "text": [
      "Starting epoch 52/313\n"
     ]
    },
    {
     "name": "stderr",
     "output_type": "stream",
     "text": [
      "100%|██████████| 16/16 [00:05<00:00,  3.06it/s]\n"
     ]
    },
    {
     "name": "stdout",
     "output_type": "stream",
     "text": [
      "Starting epoch 53/313\n"
     ]
    },
    {
     "name": "stderr",
     "output_type": "stream",
     "text": [
      "100%|██████████| 16/16 [00:05<00:00,  3.07it/s]\n"
     ]
    },
    {
     "name": "stdout",
     "output_type": "stream",
     "text": [
      "Starting epoch 54/313\n"
     ]
    },
    {
     "name": "stderr",
     "output_type": "stream",
     "text": [
      "100%|██████████| 16/16 [00:05<00:00,  3.10it/s]\n"
     ]
    },
    {
     "name": "stdout",
     "output_type": "stream",
     "text": [
      "Starting epoch 55/313\n"
     ]
    },
    {
     "name": "stderr",
     "output_type": "stream",
     "text": [
      "100%|██████████| 16/16 [00:05<00:00,  3.08it/s]\n"
     ]
    },
    {
     "name": "stdout",
     "output_type": "stream",
     "text": [
      "Starting epoch 56/313\n"
     ]
    },
    {
     "name": "stderr",
     "output_type": "stream",
     "text": [
      " 25%|██▌       | 4/16 [00:01<00:03,  3.19it/s]"
     ]
    },
    {
     "name": "stdout",
     "output_type": "stream",
     "text": [
      "----------------------------\n",
      "| frame_loss    | 124      |\n",
      "| frame_loss_q0 | 70.3     |\n",
      "| frame_loss_q1 | 107      |\n",
      "| frame_loss_q2 | 145      |\n",
      "| frame_loss_q3 | 171      |\n",
      "| grad_norm     | 534      |\n",
      "| loss          | 806      |\n",
      "| loss_q0       | 805      |\n",
      "| loss_q1       | 709      |\n",
      "| loss_q2       | 788      |\n",
      "| loss_q3       | 914      |\n",
      "| param_norm    | 95.7     |\n",
      "| rcxyz_mse     | 27.6     |\n",
      "| rcxyz_mse_q0  | 15.2     |\n",
      "| rcxyz_mse_q1  | 22.5     |\n",
      "| rcxyz_mse_q2  | 31.3     |\n",
      "| rcxyz_mse_q3  | 41       |\n",
      "| samples       | 901      |\n",
      "| step          | 900      |\n",
      "| vel_mse       | 40.6     |\n",
      "| vel_mse_q0    | 58.3     |\n",
      "| vel_mse_q1    | 37.7     |\n",
      "| vel_mse_q2    | 33       |\n",
      "| vel_mse_q3    | 33.3     |\n",
      "----------------------------\n"
     ]
    },
    {
     "name": "stderr",
     "output_type": "stream",
     "text": [
      " 31%|███▏      | 5/16 [00:01<00:03,  3.27it/s]"
     ]
    },
    {
     "name": "stdout",
     "output_type": "stream",
     "text": [
      "step[900]: loss[805.56314]\n"
     ]
    },
    {
     "name": "stderr",
     "output_type": "stream",
     "text": [
      "100%|██████████| 16/16 [00:05<00:00,  3.08it/s]\n"
     ]
    },
    {
     "name": "stdout",
     "output_type": "stream",
     "text": [
      "Starting epoch 57/313\n"
     ]
    },
    {
     "name": "stderr",
     "output_type": "stream",
     "text": [
      "100%|██████████| 16/16 [00:05<00:00,  3.12it/s]\n"
     ]
    },
    {
     "name": "stdout",
     "output_type": "stream",
     "text": [
      "Starting epoch 58/313\n"
     ]
    },
    {
     "name": "stderr",
     "output_type": "stream",
     "text": [
      "100%|██████████| 16/16 [00:05<00:00,  3.16it/s]\n"
     ]
    },
    {
     "name": "stdout",
     "output_type": "stream",
     "text": [
      "Starting epoch 59/313\n"
     ]
    },
    {
     "name": "stderr",
     "output_type": "stream",
     "text": [
      "100%|██████████| 16/16 [00:05<00:00,  3.10it/s]\n"
     ]
    },
    {
     "name": "stdout",
     "output_type": "stream",
     "text": [
      "Starting epoch 60/313\n"
     ]
    },
    {
     "name": "stderr",
     "output_type": "stream",
     "text": [
      "100%|██████████| 16/16 [00:05<00:00,  3.07it/s]\n"
     ]
    },
    {
     "name": "stdout",
     "output_type": "stream",
     "text": [
      "Starting epoch 61/313\n"
     ]
    },
    {
     "name": "stderr",
     "output_type": "stream",
     "text": [
      "100%|██████████| 16/16 [00:05<00:00,  3.05it/s]\n"
     ]
    },
    {
     "name": "stdout",
     "output_type": "stream",
     "text": [
      "Starting epoch 62/313\n"
     ]
    },
    {
     "name": "stderr",
     "output_type": "stream",
     "text": [
      " 50%|█████     | 8/16 [00:02<00:02,  3.07it/s]"
     ]
    },
    {
     "name": "stdout",
     "output_type": "stream",
     "text": [
      "saving model...\n"
     ]
    },
    {
     "name": "stderr",
     "output_type": "stream",
     "text": [
      " 56%|█████▋    | 9/16 [00:03<00:02,  2.73it/s]"
     ]
    },
    {
     "name": "stdout",
     "output_type": "stream",
     "text": [
      "Skipping evaluation for now.\n"
     ]
    },
    {
     "name": "stderr",
     "output_type": "stream",
     "text": [
      "100%|██████████| 16/16 [00:05<00:00,  3.01it/s]\n"
     ]
    },
    {
     "name": "stdout",
     "output_type": "stream",
     "text": [
      "Starting epoch 63/313\n"
     ]
    },
    {
     "name": "stderr",
     "output_type": "stream",
     "text": [
      "100%|██████████| 16/16 [00:05<00:00,  3.09it/s]\n"
     ]
    },
    {
     "name": "stdout",
     "output_type": "stream",
     "text": [
      "Starting epoch 64/313\n"
     ]
    },
    {
     "name": "stderr",
     "output_type": "stream",
     "text": [
      "100%|██████████| 16/16 [00:05<00:00,  3.07it/s]\n"
     ]
    },
    {
     "name": "stdout",
     "output_type": "stream",
     "text": [
      "Starting epoch 65/313\n"
     ]
    },
    {
     "name": "stderr",
     "output_type": "stream",
     "text": [
      " 62%|██████▎   | 10/16 [00:03<00:01,  3.13it/s]"
     ]
    },
    {
     "name": "stdout",
     "output_type": "stream",
     "text": [
      "----------------------------\n",
      "| frame_loss    | 124      |\n",
      "| frame_loss_q0 | 60.2     |\n",
      "| frame_loss_q1 | 101      |\n",
      "| frame_loss_q2 | 144      |\n",
      "| frame_loss_q3 | 168      |\n",
      "| grad_norm     | 454      |\n",
      "| loss          | 838      |\n",
      "| loss_q0       | 810      |\n",
      "| loss_q1       | 694      |\n",
      "| loss_q2       | 815      |\n",
      "| loss_q3       | 993      |\n",
      "| param_norm    | 95.7     |\n",
      "| rcxyz_mse     | 30.7     |\n",
      "| rcxyz_mse_q0  | 19       |\n",
      "| rcxyz_mse_q1  | 24.4     |\n",
      "| rcxyz_mse_q2  | 32.1     |\n",
      "| rcxyz_mse_q3  | 42.7     |\n",
      "| samples       | 1.05e+03 |\n",
      "| step          | 1.05e+03 |\n",
      "| vel_mse       | 40.7     |\n",
      "| vel_mse_q0    | 56       |\n",
      "| vel_mse_q1    | 35       |\n",
      "| vel_mse_q2    | 34.9     |\n",
      "| vel_mse_q3    | 39.9     |\n",
      "----------------------------\n"
     ]
    },
    {
     "name": "stderr",
     "output_type": "stream",
     "text": [
      " 69%|██████▉   | 11/16 [00:03<00:01,  3.13it/s]"
     ]
    },
    {
     "name": "stdout",
     "output_type": "stream",
     "text": [
      "step[1050]: loss[837.91364]\n"
     ]
    },
    {
     "name": "stderr",
     "output_type": "stream",
     "text": [
      "100%|██████████| 16/16 [00:05<00:00,  3.08it/s]\n"
     ]
    },
    {
     "name": "stdout",
     "output_type": "stream",
     "text": [
      "Starting epoch 66/313\n"
     ]
    },
    {
     "name": "stderr",
     "output_type": "stream",
     "text": [
      "100%|██████████| 16/16 [00:05<00:00,  3.05it/s]\n"
     ]
    },
    {
     "name": "stdout",
     "output_type": "stream",
     "text": [
      "Starting epoch 67/313\n"
     ]
    },
    {
     "name": "stderr",
     "output_type": "stream",
     "text": [
      "100%|██████████| 16/16 [00:05<00:00,  3.10it/s]\n"
     ]
    },
    {
     "name": "stdout",
     "output_type": "stream",
     "text": [
      "Starting epoch 68/313\n"
     ]
    },
    {
     "name": "stderr",
     "output_type": "stream",
     "text": [
      "100%|██████████| 16/16 [00:05<00:00,  3.03it/s]\n"
     ]
    },
    {
     "name": "stdout",
     "output_type": "stream",
     "text": [
      "Starting epoch 69/313\n"
     ]
    },
    {
     "name": "stderr",
     "output_type": "stream",
     "text": [
      "100%|██████████| 16/16 [00:05<00:00,  3.11it/s]\n"
     ]
    },
    {
     "name": "stdout",
     "output_type": "stream",
     "text": [
      "Starting epoch 70/313\n"
     ]
    },
    {
     "name": "stderr",
     "output_type": "stream",
     "text": [
      "100%|██████████| 16/16 [00:05<00:00,  3.12it/s]\n"
     ]
    },
    {
     "name": "stdout",
     "output_type": "stream",
     "text": [
      "Starting epoch 71/313\n"
     ]
    },
    {
     "name": "stderr",
     "output_type": "stream",
     "text": [
      "100%|██████████| 16/16 [00:05<00:00,  3.16it/s]\n"
     ]
    },
    {
     "name": "stdout",
     "output_type": "stream",
     "text": [
      "Starting epoch 72/313\n"
     ]
    },
    {
     "name": "stderr",
     "output_type": "stream",
     "text": [
      "100%|██████████| 16/16 [00:05<00:00,  3.09it/s]\n"
     ]
    },
    {
     "name": "stdout",
     "output_type": "stream",
     "text": [
      "Starting epoch 73/313\n"
     ]
    },
    {
     "name": "stderr",
     "output_type": "stream",
     "text": [
      "100%|██████████| 16/16 [00:05<00:00,  2.98it/s]\n"
     ]
    },
    {
     "name": "stdout",
     "output_type": "stream",
     "text": [
      "Starting epoch 74/313\n"
     ]
    },
    {
     "name": "stderr",
     "output_type": "stream",
     "text": [
      "100%|██████████| 16/16 [00:05<00:00,  3.08it/s]\n"
     ]
    },
    {
     "name": "stdout",
     "output_type": "stream",
     "text": [
      "Starting epoch 75/313\n"
     ]
    },
    {
     "name": "stderr",
     "output_type": "stream",
     "text": [
      "  0%|          | 0/16 [00:00<?, ?it/s]"
     ]
    },
    {
     "name": "stdout",
     "output_type": "stream",
     "text": [
      "----------------------------\n",
      "| frame_loss    | 116      |\n",
      "| frame_loss_q0 | 52.3     |\n",
      "| frame_loss_q1 | 92       |\n",
      "| frame_loss_q2 | 144      |\n",
      "| frame_loss_q3 | 165      |\n",
      "| grad_norm     | 442      |\n",
      "| loss          | 844      |\n",
      "| loss_q0       | 869      |\n",
      "| loss_q1       | 666      |\n",
      "| loss_q2       | 842      |\n",
      "| loss_q3       | 981      |\n",
      "| param_norm    | 95.7     |\n",
      "| rcxyz_mse     | 29.4     |\n",
      "| rcxyz_mse_q0  | 12.9     |\n",
      "| rcxyz_mse_q1  | 20.5     |\n",
      "| rcxyz_mse_q2  | 36.2     |\n",
      "| rcxyz_mse_q3  | 45.1     |\n",
      "| samples       | 1.2e+03  |\n",
      "| step          | 1.2e+03  |\n",
      "| vel_mse       | 43.5     |\n",
      "| vel_mse_q0    | 68.7     |\n",
      "| vel_mse_q1    | 36.9     |\n",
      "| vel_mse_q2    | 33.6     |\n",
      "| vel_mse_q3    | 36.5     |\n",
      "----------------------------\n"
     ]
    },
    {
     "name": "stderr",
     "output_type": "stream",
     "text": [
      "  6%|▋         | 1/16 [00:00<00:04,  3.09it/s]"
     ]
    },
    {
     "name": "stdout",
     "output_type": "stream",
     "text": [
      "step[1200]: loss[843.80171]\n"
     ]
    },
    {
     "name": "stderr",
     "output_type": "stream",
     "text": [
      "100%|██████████| 16/16 [00:05<00:00,  3.15it/s]\n"
     ]
    },
    {
     "name": "stdout",
     "output_type": "stream",
     "text": [
      "Starting epoch 76/313\n"
     ]
    },
    {
     "name": "stderr",
     "output_type": "stream",
     "text": [
      "100%|██████████| 16/16 [00:05<00:00,  2.95it/s]\n"
     ]
    },
    {
     "name": "stdout",
     "output_type": "stream",
     "text": [
      "Starting epoch 77/313\n"
     ]
    },
    {
     "name": "stderr",
     "output_type": "stream",
     "text": [
      "100%|██████████| 16/16 [00:05<00:00,  3.02it/s]\n"
     ]
    },
    {
     "name": "stdout",
     "output_type": "stream",
     "text": [
      "Starting epoch 78/313\n"
     ]
    },
    {
     "name": "stderr",
     "output_type": "stream",
     "text": [
      "100%|██████████| 16/16 [00:05<00:00,  3.00it/s]\n"
     ]
    },
    {
     "name": "stdout",
     "output_type": "stream",
     "text": [
      "Starting epoch 79/313\n"
     ]
    },
    {
     "name": "stderr",
     "output_type": "stream",
     "text": [
      "100%|██████████| 16/16 [00:05<00:00,  2.98it/s]\n"
     ]
    },
    {
     "name": "stdout",
     "output_type": "stream",
     "text": [
      "Starting epoch 80/313\n"
     ]
    },
    {
     "name": "stderr",
     "output_type": "stream",
     "text": [
      "100%|██████████| 16/16 [00:05<00:00,  3.04it/s]\n"
     ]
    },
    {
     "name": "stdout",
     "output_type": "stream",
     "text": [
      "Starting epoch 81/313\n"
     ]
    },
    {
     "name": "stderr",
     "output_type": "stream",
     "text": [
      "100%|██████████| 16/16 [00:05<00:00,  3.18it/s]\n"
     ]
    },
    {
     "name": "stdout",
     "output_type": "stream",
     "text": [
      "Starting epoch 82/313\n"
     ]
    },
    {
     "name": "stderr",
     "output_type": "stream",
     "text": [
      "100%|██████████| 16/16 [00:05<00:00,  3.04it/s]\n"
     ]
    },
    {
     "name": "stdout",
     "output_type": "stream",
     "text": [
      "Starting epoch 83/313\n"
     ]
    },
    {
     "name": "stderr",
     "output_type": "stream",
     "text": [
      "100%|██████████| 16/16 [00:05<00:00,  3.10it/s]\n"
     ]
    },
    {
     "name": "stdout",
     "output_type": "stream",
     "text": [
      "Starting epoch 84/313\n"
     ]
    },
    {
     "name": "stderr",
     "output_type": "stream",
     "text": [
      " 38%|███▊      | 6/16 [00:01<00:03,  3.18it/s]"
     ]
    },
    {
     "name": "stdout",
     "output_type": "stream",
     "text": [
      "----------------------------\n",
      "| frame_loss    | 111      |\n",
      "| frame_loss_q0 | 46.7     |\n",
      "| frame_loss_q1 | 88.5     |\n",
      "| frame_loss_q2 | 140      |\n",
      "| frame_loss_q3 | 165      |\n",
      "| grad_norm     | 410      |\n",
      "| loss          | 780      |\n",
      "| loss_q0       | 684      |\n",
      "| loss_q1       | 617      |\n",
      "| loss_q2       | 811      |\n",
      "| loss_q3       | 987      |\n",
      "| param_norm    | 95.8     |\n",
      "| rcxyz_mse     | 28.7     |\n",
      "| rcxyz_mse_q0  | 12.3     |\n",
      "| rcxyz_mse_q1  | 21.5     |\n",
      "| rcxyz_mse_q2  | 34.2     |\n",
      "| rcxyz_mse_q3  | 45.2     |\n",
      "| samples       | 1.35e+03 |\n",
      "| step          | 1.35e+03 |\n",
      "| vel_mse       | 38.2     |\n",
      "| vel_mse_q0    | 51.4     |\n",
      "| vel_mse_q1    | 31.4     |\n",
      "| vel_mse_q2    | 32.9     |\n",
      "| vel_mse_q3    | 37       |\n",
      "----------------------------\n"
     ]
    },
    {
     "name": "stderr",
     "output_type": "stream",
     "text": [
      " 44%|████▍     | 7/16 [00:02<00:02,  3.23it/s]"
     ]
    },
    {
     "name": "stdout",
     "output_type": "stream",
     "text": [
      "step[1350]: loss[780.14380]\n"
     ]
    },
    {
     "name": "stderr",
     "output_type": "stream",
     "text": [
      "100%|██████████| 16/16 [00:05<00:00,  3.09it/s]\n"
     ]
    },
    {
     "name": "stdout",
     "output_type": "stream",
     "text": [
      "Starting epoch 85/313\n"
     ]
    },
    {
     "name": "stderr",
     "output_type": "stream",
     "text": [
      "100%|██████████| 16/16 [00:05<00:00,  3.16it/s]\n"
     ]
    },
    {
     "name": "stdout",
     "output_type": "stream",
     "text": [
      "Starting epoch 86/313\n"
     ]
    },
    {
     "name": "stderr",
     "output_type": "stream",
     "text": [
      "100%|██████████| 16/16 [00:05<00:00,  3.09it/s]\n"
     ]
    },
    {
     "name": "stdout",
     "output_type": "stream",
     "text": [
      "Starting epoch 87/313\n"
     ]
    },
    {
     "name": "stderr",
     "output_type": "stream",
     "text": [
      "100%|██████████| 16/16 [00:05<00:00,  3.11it/s]\n"
     ]
    },
    {
     "name": "stdout",
     "output_type": "stream",
     "text": [
      "Starting epoch 88/313\n"
     ]
    },
    {
     "name": "stderr",
     "output_type": "stream",
     "text": [
      "100%|██████████| 16/16 [00:05<00:00,  3.17it/s]\n"
     ]
    },
    {
     "name": "stdout",
     "output_type": "stream",
     "text": [
      "Starting epoch 89/313\n"
     ]
    },
    {
     "name": "stderr",
     "output_type": "stream",
     "text": [
      "100%|██████████| 16/16 [00:05<00:00,  3.16it/s]\n"
     ]
    },
    {
     "name": "stdout",
     "output_type": "stream",
     "text": [
      "Starting epoch 90/313\n"
     ]
    },
    {
     "name": "stderr",
     "output_type": "stream",
     "text": [
      "100%|██████████| 16/16 [00:05<00:00,  3.08it/s]\n"
     ]
    },
    {
     "name": "stdout",
     "output_type": "stream",
     "text": [
      "Starting epoch 91/313\n"
     ]
    },
    {
     "name": "stderr",
     "output_type": "stream",
     "text": [
      "100%|██████████| 16/16 [00:05<00:00,  3.11it/s]\n"
     ]
    },
    {
     "name": "stdout",
     "output_type": "stream",
     "text": [
      "Starting epoch 92/313\n"
     ]
    },
    {
     "name": "stderr",
     "output_type": "stream",
     "text": [
      "100%|██████████| 16/16 [00:05<00:00,  3.13it/s]\n"
     ]
    },
    {
     "name": "stdout",
     "output_type": "stream",
     "text": [
      "Starting epoch 93/313\n"
     ]
    },
    {
     "name": "stderr",
     "output_type": "stream",
     "text": [
      " 75%|███████▌  | 12/16 [00:03<00:01,  3.06it/s]"
     ]
    },
    {
     "name": "stdout",
     "output_type": "stream",
     "text": [
      "----------------------------\n",
      "| frame_loss    | 107      |\n",
      "| frame_loss_q0 | 40.3     |\n",
      "| frame_loss_q1 | 84.5     |\n",
      "| frame_loss_q2 | 133      |\n",
      "| frame_loss_q3 | 164      |\n",
      "| grad_norm     | 406      |\n",
      "| loss          | 759      |\n",
      "| loss_q0       | 680      |\n",
      "| loss_q1       | 601      |\n",
      "| loss_q2       | 759      |\n",
      "| loss_q3       | 1.02e+03 |\n",
      "| param_norm    | 95.8     |\n",
      "| rcxyz_mse     | 27       |\n",
      "| rcxyz_mse_q0  | 10.5     |\n",
      "| rcxyz_mse_q1  | 18.3     |\n",
      "| rcxyz_mse_q2  | 31.1     |\n",
      "| rcxyz_mse_q3  | 47.7     |\n",
      "| samples       | 1.5e+03  |\n",
      "| step          | 1.5e+03  |\n",
      "| vel_mse       | 38.2     |\n",
      "| vel_mse_q0    | 53.5     |\n",
      "| vel_mse_q1    | 33.4     |\n",
      "| vel_mse_q2    | 31.5     |\n",
      "| vel_mse_q3    | 38.4     |\n",
      "----------------------------\n"
     ]
    },
    {
     "name": "stderr",
     "output_type": "stream",
     "text": [
      " 81%|████████▏ | 13/16 [00:04<00:00,  3.09it/s]"
     ]
    },
    {
     "name": "stdout",
     "output_type": "stream",
     "text": [
      "step[1500]: loss[758.99972]\n"
     ]
    },
    {
     "name": "stderr",
     "output_type": "stream",
     "text": [
      "100%|██████████| 16/16 [00:05<00:00,  3.12it/s]\n"
     ]
    },
    {
     "name": "stdout",
     "output_type": "stream",
     "text": [
      "Starting epoch 94/313\n"
     ]
    },
    {
     "name": "stderr",
     "output_type": "stream",
     "text": [
      "100%|██████████| 16/16 [00:05<00:00,  3.09it/s]\n"
     ]
    },
    {
     "name": "stdout",
     "output_type": "stream",
     "text": [
      "Starting epoch 95/313\n"
     ]
    },
    {
     "name": "stderr",
     "output_type": "stream",
     "text": [
      "100%|██████████| 16/16 [00:05<00:00,  3.17it/s]\n"
     ]
    },
    {
     "name": "stdout",
     "output_type": "stream",
     "text": [
      "Starting epoch 96/313\n"
     ]
    },
    {
     "name": "stderr",
     "output_type": "stream",
     "text": [
      "100%|██████████| 16/16 [00:05<00:00,  2.98it/s]\n"
     ]
    },
    {
     "name": "stdout",
     "output_type": "stream",
     "text": [
      "Starting epoch 97/313\n"
     ]
    },
    {
     "name": "stderr",
     "output_type": "stream",
     "text": [
      "100%|██████████| 16/16 [00:05<00:00,  3.02it/s]\n"
     ]
    },
    {
     "name": "stdout",
     "output_type": "stream",
     "text": [
      "Starting epoch 98/313\n"
     ]
    },
    {
     "name": "stderr",
     "output_type": "stream",
     "text": [
      "100%|██████████| 16/16 [00:05<00:00,  3.03it/s]\n"
     ]
    },
    {
     "name": "stdout",
     "output_type": "stream",
     "text": [
      "Starting epoch 99/313\n"
     ]
    },
    {
     "name": "stderr",
     "output_type": "stream",
     "text": [
      "100%|██████████| 16/16 [00:05<00:00,  3.02it/s]\n"
     ]
    },
    {
     "name": "stdout",
     "output_type": "stream",
     "text": [
      "Starting epoch 100/313\n"
     ]
    },
    {
     "name": "stderr",
     "output_type": "stream",
     "text": [
      "100%|██████████| 16/16 [00:05<00:00,  2.99it/s]\n"
     ]
    },
    {
     "name": "stdout",
     "output_type": "stream",
     "text": [
      "Starting epoch 101/313\n"
     ]
    },
    {
     "name": "stderr",
     "output_type": "stream",
     "text": [
      "100%|██████████| 16/16 [00:05<00:00,  3.05it/s]\n"
     ]
    },
    {
     "name": "stdout",
     "output_type": "stream",
     "text": [
      "Starting epoch 102/313\n"
     ]
    },
    {
     "name": "stderr",
     "output_type": "stream",
     "text": [
      "100%|██████████| 16/16 [00:05<00:00,  3.01it/s]\n"
     ]
    },
    {
     "name": "stdout",
     "output_type": "stream",
     "text": [
      "Starting epoch 103/313\n"
     ]
    },
    {
     "name": "stderr",
     "output_type": "stream",
     "text": [
      " 12%|█▎        | 2/16 [00:00<00:04,  2.94it/s]"
     ]
    },
    {
     "name": "stdout",
     "output_type": "stream",
     "text": [
      "----------------------------\n",
      "| frame_loss    | 103      |\n",
      "| frame_loss_q0 | 38.4     |\n",
      "| frame_loss_q1 | 84.3     |\n",
      "| frame_loss_q2 | 138      |\n",
      "| frame_loss_q3 | 161      |\n",
      "| grad_norm     | 368      |\n",
      "| loss          | 758      |\n",
      "| loss_q0       | 677      |\n",
      "| loss_q1       | 602      |\n",
      "| loss_q2       | 768      |\n",
      "| loss_q3       | 1.02e+03 |\n",
      "| param_norm    | 95.9     |\n",
      "| rcxyz_mse     | 26.3     |\n",
      "| rcxyz_mse_q0  | 10.5     |\n",
      "| rcxyz_mse_q1  | 17.3     |\n",
      "| rcxyz_mse_q2  | 32.7     |\n",
      "| rcxyz_mse_q3  | 48.3     |\n",
      "| samples       | 1.65e+03 |\n",
      "| step          | 1.65e+03 |\n",
      "| vel_mse       | 39.3     |\n",
      "| vel_mse_q0    | 53.3     |\n",
      "| vel_mse_q1    | 34.4     |\n",
      "| vel_mse_q2    | 30.3     |\n",
      "| vel_mse_q3    | 37.9     |\n",
      "----------------------------\n"
     ]
    },
    {
     "name": "stderr",
     "output_type": "stream",
     "text": [
      " 19%|█▉        | 3/16 [00:01<00:04,  3.00it/s]"
     ]
    },
    {
     "name": "stdout",
     "output_type": "stream",
     "text": [
      "step[1650]: loss[758.38562]\n"
     ]
    },
    {
     "name": "stderr",
     "output_type": "stream",
     "text": [
      "100%|██████████| 16/16 [00:05<00:00,  3.04it/s]\n"
     ]
    },
    {
     "name": "stdout",
     "output_type": "stream",
     "text": [
      "Starting epoch 104/313\n"
     ]
    },
    {
     "name": "stderr",
     "output_type": "stream",
     "text": [
      "100%|██████████| 16/16 [00:05<00:00,  3.12it/s]\n"
     ]
    },
    {
     "name": "stdout",
     "output_type": "stream",
     "text": [
      "Starting epoch 105/313\n"
     ]
    },
    {
     "name": "stderr",
     "output_type": "stream",
     "text": [
      "100%|██████████| 16/16 [00:05<00:00,  3.07it/s]\n"
     ]
    },
    {
     "name": "stdout",
     "output_type": "stream",
     "text": [
      "Starting epoch 106/313\n"
     ]
    },
    {
     "name": "stderr",
     "output_type": "stream",
     "text": [
      "100%|██████████| 16/16 [00:05<00:00,  3.05it/s]\n"
     ]
    },
    {
     "name": "stdout",
     "output_type": "stream",
     "text": [
      "Starting epoch 107/313\n"
     ]
    },
    {
     "name": "stderr",
     "output_type": "stream",
     "text": [
      "100%|██████████| 16/16 [00:05<00:00,  3.06it/s]\n"
     ]
    },
    {
     "name": "stdout",
     "output_type": "stream",
     "text": [
      "Starting epoch 108/313\n"
     ]
    },
    {
     "name": "stderr",
     "output_type": "stream",
     "text": [
      "100%|██████████| 16/16 [00:05<00:00,  3.06it/s]\n"
     ]
    },
    {
     "name": "stdout",
     "output_type": "stream",
     "text": [
      "Starting epoch 109/313\n"
     ]
    },
    {
     "name": "stderr",
     "output_type": "stream",
     "text": [
      "100%|██████████| 16/16 [00:05<00:00,  2.97it/s]\n"
     ]
    },
    {
     "name": "stdout",
     "output_type": "stream",
     "text": [
      "Starting epoch 110/313\n"
     ]
    },
    {
     "name": "stderr",
     "output_type": "stream",
     "text": [
      "100%|██████████| 16/16 [00:05<00:00,  3.14it/s]\n"
     ]
    },
    {
     "name": "stdout",
     "output_type": "stream",
     "text": [
      "Starting epoch 111/313\n"
     ]
    },
    {
     "name": "stderr",
     "output_type": "stream",
     "text": [
      "100%|██████████| 16/16 [00:05<00:00,  2.99it/s]\n"
     ]
    },
    {
     "name": "stdout",
     "output_type": "stream",
     "text": [
      "Starting epoch 112/313\n"
     ]
    },
    {
     "name": "stderr",
     "output_type": "stream",
     "text": [
      " 50%|█████     | 8/16 [00:02<00:02,  2.98it/s]"
     ]
    },
    {
     "name": "stdout",
     "output_type": "stream",
     "text": [
      "----------------------------\n",
      "| frame_loss    | 103      |\n",
      "| frame_loss_q0 | 34.3     |\n",
      "| frame_loss_q1 | 79.2     |\n",
      "| frame_loss_q2 | 136      |\n",
      "| frame_loss_q3 | 162      |\n",
      "| grad_norm     | 360      |\n",
      "| loss          | 781      |\n",
      "| loss_q0       | 673      |\n",
      "| loss_q1       | 579      |\n",
      "| loss_q2       | 795      |\n",
      "| loss_q3       | 1.06e+03 |\n",
      "| param_norm    | 95.9     |\n",
      "| rcxyz_mse     | 28       |\n",
      "| rcxyz_mse_q0  | 11.1     |\n",
      "| rcxyz_mse_q1  | 16.5     |\n",
      "| rcxyz_mse_q2  | 33.5     |\n",
      "| rcxyz_mse_q3  | 49.8     |\n",
      "| samples       | 1.8e+03  |\n",
      "| step          | 1.8e+03  |\n",
      "| vel_mse       | 39.8     |\n",
      "| vel_mse_q0    | 52.8     |\n",
      "| vel_mse_q1    | 33.5     |\n",
      "| vel_mse_q2    | 32.5     |\n",
      "| vel_mse_q3    | 39.5     |\n",
      "----------------------------\n"
     ]
    },
    {
     "name": "stderr",
     "output_type": "stream",
     "text": [
      " 56%|█████▋    | 9/16 [00:02<00:02,  3.10it/s]"
     ]
    },
    {
     "name": "stdout",
     "output_type": "stream",
     "text": [
      "step[1800]: loss[780.58957]\n"
     ]
    },
    {
     "name": "stderr",
     "output_type": "stream",
     "text": [
      "100%|██████████| 16/16 [00:05<00:00,  3.01it/s]\n"
     ]
    },
    {
     "name": "stdout",
     "output_type": "stream",
     "text": [
      "Starting epoch 113/313\n"
     ]
    },
    {
     "name": "stderr",
     "output_type": "stream",
     "text": [
      "100%|██████████| 16/16 [00:05<00:00,  3.12it/s]\n"
     ]
    },
    {
     "name": "stdout",
     "output_type": "stream",
     "text": [
      "Starting epoch 114/313\n"
     ]
    },
    {
     "name": "stderr",
     "output_type": "stream",
     "text": [
      "100%|██████████| 16/16 [00:05<00:00,  3.12it/s]\n"
     ]
    },
    {
     "name": "stdout",
     "output_type": "stream",
     "text": [
      "Starting epoch 115/313\n"
     ]
    },
    {
     "name": "stderr",
     "output_type": "stream",
     "text": [
      "100%|██████████| 16/16 [00:05<00:00,  3.00it/s]\n"
     ]
    },
    {
     "name": "stdout",
     "output_type": "stream",
     "text": [
      "Starting epoch 116/313\n"
     ]
    },
    {
     "name": "stderr",
     "output_type": "stream",
     "text": [
      "100%|██████████| 16/16 [00:05<00:00,  3.07it/s]\n"
     ]
    },
    {
     "name": "stdout",
     "output_type": "stream",
     "text": [
      "Starting epoch 117/313\n"
     ]
    },
    {
     "name": "stderr",
     "output_type": "stream",
     "text": [
      "100%|██████████| 16/16 [00:05<00:00,  3.10it/s]\n"
     ]
    },
    {
     "name": "stdout",
     "output_type": "stream",
     "text": [
      "Starting epoch 118/313\n"
     ]
    },
    {
     "name": "stderr",
     "output_type": "stream",
     "text": [
      "100%|██████████| 16/16 [00:05<00:00,  3.14it/s]\n"
     ]
    },
    {
     "name": "stdout",
     "output_type": "stream",
     "text": [
      "Starting epoch 119/313\n"
     ]
    },
    {
     "name": "stderr",
     "output_type": "stream",
     "text": [
      "100%|██████████| 16/16 [00:05<00:00,  3.08it/s]\n"
     ]
    },
    {
     "name": "stdout",
     "output_type": "stream",
     "text": [
      "Starting epoch 120/313\n"
     ]
    },
    {
     "name": "stderr",
     "output_type": "stream",
     "text": [
      "100%|██████████| 16/16 [00:05<00:00,  3.13it/s]\n"
     ]
    },
    {
     "name": "stdout",
     "output_type": "stream",
     "text": [
      "Starting epoch 121/313\n"
     ]
    },
    {
     "name": "stderr",
     "output_type": "stream",
     "text": [
      " 88%|████████▊ | 14/16 [00:04<00:00,  3.03it/s]"
     ]
    },
    {
     "name": "stdout",
     "output_type": "stream",
     "text": [
      "----------------------------\n",
      "| frame_loss    | 104      |\n",
      "| frame_loss_q0 | 35       |\n",
      "| frame_loss_q1 | 73       |\n",
      "| frame_loss_q2 | 131      |\n",
      "| frame_loss_q3 | 158      |\n",
      "| grad_norm     | 329      |\n",
      "| loss          | 750      |\n",
      "| loss_q0       | 618      |\n",
      "| loss_q1       | 576      |\n",
      "| loss_q2       | 768      |\n",
      "| loss_q3       | 1e+03    |\n",
      "| param_norm    | 95.9     |\n",
      "| rcxyz_mse     | 28.2     |\n",
      "| rcxyz_mse_q0  | 10.3     |\n",
      "| rcxyz_mse_q1  | 14.9     |\n",
      "| rcxyz_mse_q2  | 33.3     |\n",
      "| rcxyz_mse_q3  | 49.3     |\n",
      "| samples       | 1.95e+03 |\n",
      "| step          | 1.95e+03 |\n",
      "| vel_mse       | 36.3     |\n",
      "| vel_mse_q0    | 48       |\n",
      "| vel_mse_q1    | 35.4     |\n",
      "| vel_mse_q2    | 30.3     |\n",
      "| vel_mse_q3    | 35       |\n",
      "----------------------------\n"
     ]
    },
    {
     "name": "stderr",
     "output_type": "stream",
     "text": [
      " 94%|█████████▍| 15/16 [00:04<00:00,  3.08it/s]"
     ]
    },
    {
     "name": "stdout",
     "output_type": "stream",
     "text": [
      "step[1950]: loss[749.70710]\n"
     ]
    },
    {
     "name": "stderr",
     "output_type": "stream",
     "text": [
      "100%|██████████| 16/16 [00:05<00:00,  3.09it/s]\n"
     ]
    },
    {
     "name": "stdout",
     "output_type": "stream",
     "text": [
      "Starting epoch 122/313\n"
     ]
    },
    {
     "name": "stderr",
     "output_type": "stream",
     "text": [
      "100%|██████████| 16/16 [00:05<00:00,  3.10it/s]\n"
     ]
    },
    {
     "name": "stdout",
     "output_type": "stream",
     "text": [
      "Starting epoch 123/313\n"
     ]
    },
    {
     "name": "stderr",
     "output_type": "stream",
     "text": [
      "100%|██████████| 16/16 [00:05<00:00,  3.03it/s]\n"
     ]
    },
    {
     "name": "stdout",
     "output_type": "stream",
     "text": [
      "Starting epoch 124/313\n"
     ]
    },
    {
     "name": "stderr",
     "output_type": "stream",
     "text": [
      "100%|██████████| 16/16 [00:05<00:00,  3.03it/s]\n"
     ]
    },
    {
     "name": "stdout",
     "output_type": "stream",
     "text": [
      "Starting epoch 125/313\n"
     ]
    },
    {
     "name": "stderr",
     "output_type": "stream",
     "text": [
      "  0%|          | 0/16 [00:00<?, ?it/s]"
     ]
    },
    {
     "name": "stdout",
     "output_type": "stream",
     "text": [
      "saving model...\n"
     ]
    },
    {
     "name": "stderr",
     "output_type": "stream",
     "text": [
      "  6%|▋         | 1/16 [00:00<00:06,  2.35it/s]"
     ]
    },
    {
     "name": "stdout",
     "output_type": "stream",
     "text": [
      "Skipping evaluation for now.\n"
     ]
    },
    {
     "name": "stderr",
     "output_type": "stream",
     "text": [
      "100%|██████████| 16/16 [00:05<00:00,  3.01it/s]\n"
     ]
    },
    {
     "name": "stdout",
     "output_type": "stream",
     "text": [
      "Starting epoch 126/313\n"
     ]
    },
    {
     "name": "stderr",
     "output_type": "stream",
     "text": [
      "100%|██████████| 16/16 [00:05<00:00,  2.99it/s]\n"
     ]
    },
    {
     "name": "stdout",
     "output_type": "stream",
     "text": [
      "Starting epoch 127/313\n"
     ]
    },
    {
     "name": "stderr",
     "output_type": "stream",
     "text": [
      "100%|██████████| 16/16 [00:05<00:00,  3.05it/s]\n"
     ]
    },
    {
     "name": "stdout",
     "output_type": "stream",
     "text": [
      "Starting epoch 128/313\n"
     ]
    },
    {
     "name": "stderr",
     "output_type": "stream",
     "text": [
      "100%|██████████| 16/16 [00:05<00:00,  2.97it/s]\n"
     ]
    },
    {
     "name": "stdout",
     "output_type": "stream",
     "text": [
      "Starting epoch 129/313\n"
     ]
    },
    {
     "name": "stderr",
     "output_type": "stream",
     "text": [
      "100%|██████████| 16/16 [00:05<00:00,  3.04it/s]\n"
     ]
    },
    {
     "name": "stdout",
     "output_type": "stream",
     "text": [
      "Starting epoch 130/313\n"
     ]
    },
    {
     "name": "stderr",
     "output_type": "stream",
     "text": [
      "100%|██████████| 16/16 [00:05<00:00,  3.13it/s]\n"
     ]
    },
    {
     "name": "stdout",
     "output_type": "stream",
     "text": [
      "Starting epoch 131/313\n"
     ]
    },
    {
     "name": "stderr",
     "output_type": "stream",
     "text": [
      " 25%|██▌       | 4/16 [00:01<00:03,  3.00it/s]"
     ]
    },
    {
     "name": "stdout",
     "output_type": "stream",
     "text": [
      "----------------------------\n",
      "| frame_loss    | 102      |\n",
      "| frame_loss_q0 | 28       |\n",
      "| frame_loss_q1 | 76.7     |\n",
      "| frame_loss_q2 | 134      |\n",
      "| frame_loss_q3 | 158      |\n",
      "| grad_norm     | 313      |\n",
      "| loss          | 756      |\n",
      "| loss_q0       | 611      |\n",
      "| loss_q1       | 577      |\n",
      "| loss_q2       | 784      |\n",
      "| loss_q3       | 1.01e+03 |\n",
      "| param_norm    | 95.9     |\n",
      "| rcxyz_mse     | 29.4     |\n",
      "| rcxyz_mse_q0  | 8.84     |\n",
      "| rcxyz_mse_q1  | 17       |\n",
      "| rcxyz_mse_q2  | 35.7     |\n",
      "| rcxyz_mse_q3  | 51.6     |\n",
      "| samples       | 2.1e+03  |\n",
      "| step          | 2.1e+03  |\n",
      "| vel_mse       | 35.9     |\n",
      "| vel_mse_q0    | 49.5     |\n",
      "| vel_mse_q1    | 33.1     |\n",
      "| vel_mse_q2    | 29.2     |\n",
      "| vel_mse_q3    | 33.3     |\n",
      "----------------------------\n"
     ]
    },
    {
     "name": "stderr",
     "output_type": "stream",
     "text": [
      " 31%|███▏      | 5/16 [00:01<00:03,  3.09it/s]"
     ]
    },
    {
     "name": "stdout",
     "output_type": "stream",
     "text": [
      "step[2100]: loss[756.10142]\n"
     ]
    },
    {
     "name": "stderr",
     "output_type": "stream",
     "text": [
      "100%|██████████| 16/16 [00:05<00:00,  2.95it/s]\n"
     ]
    },
    {
     "name": "stdout",
     "output_type": "stream",
     "text": [
      "Starting epoch 132/313\n"
     ]
    },
    {
     "name": "stderr",
     "output_type": "stream",
     "text": [
      "100%|██████████| 16/16 [00:05<00:00,  2.99it/s]\n"
     ]
    },
    {
     "name": "stdout",
     "output_type": "stream",
     "text": [
      "Starting epoch 133/313\n"
     ]
    },
    {
     "name": "stderr",
     "output_type": "stream",
     "text": [
      "100%|██████████| 16/16 [00:05<00:00,  3.06it/s]\n"
     ]
    },
    {
     "name": "stdout",
     "output_type": "stream",
     "text": [
      "Starting epoch 134/313\n"
     ]
    },
    {
     "name": "stderr",
     "output_type": "stream",
     "text": [
      "100%|██████████| 16/16 [00:05<00:00,  3.07it/s]\n"
     ]
    },
    {
     "name": "stdout",
     "output_type": "stream",
     "text": [
      "Starting epoch 135/313\n"
     ]
    },
    {
     "name": "stderr",
     "output_type": "stream",
     "text": [
      "100%|██████████| 16/16 [00:05<00:00,  3.15it/s]\n"
     ]
    },
    {
     "name": "stdout",
     "output_type": "stream",
     "text": [
      "Starting epoch 136/313\n"
     ]
    },
    {
     "name": "stderr",
     "output_type": "stream",
     "text": [
      "100%|██████████| 16/16 [00:05<00:00,  3.10it/s]\n"
     ]
    },
    {
     "name": "stdout",
     "output_type": "stream",
     "text": [
      "Starting epoch 137/313\n"
     ]
    },
    {
     "name": "stderr",
     "output_type": "stream",
     "text": [
      "100%|██████████| 16/16 [00:05<00:00,  3.09it/s]\n"
     ]
    },
    {
     "name": "stdout",
     "output_type": "stream",
     "text": [
      "Starting epoch 138/313\n"
     ]
    },
    {
     "name": "stderr",
     "output_type": "stream",
     "text": [
      "100%|██████████| 16/16 [00:05<00:00,  3.19it/s]\n"
     ]
    },
    {
     "name": "stdout",
     "output_type": "stream",
     "text": [
      "Starting epoch 139/313\n"
     ]
    },
    {
     "name": "stderr",
     "output_type": "stream",
     "text": [
      "100%|██████████| 16/16 [00:05<00:00,  3.15it/s]\n"
     ]
    },
    {
     "name": "stdout",
     "output_type": "stream",
     "text": [
      "Starting epoch 140/313\n"
     ]
    },
    {
     "name": "stderr",
     "output_type": "stream",
     "text": [
      " 62%|██████▎   | 10/16 [00:03<00:02,  2.72it/s]"
     ]
    },
    {
     "name": "stdout",
     "output_type": "stream",
     "text": [
      "----------------------------\n",
      "| frame_loss    | 95.1     |\n",
      "| frame_loss_q0 | 25.2     |\n",
      "| frame_loss_q1 | 78.3     |\n",
      "| frame_loss_q2 | 127      |\n",
      "| frame_loss_q3 | 156      |\n",
      "| grad_norm     | 306      |\n",
      "| loss          | 723      |\n",
      "| loss_q0       | 539      |\n",
      "| loss_q1       | 600      |\n",
      "| loss_q2       | 756      |\n",
      "| loss_q3       | 1e+03    |\n",
      "| param_norm    | 96       |\n",
      "| rcxyz_mse     | 27.1     |\n",
      "| rcxyz_mse_q0  | 8.73     |\n",
      "| rcxyz_mse_q1  | 17.6     |\n",
      "| rcxyz_mse_q2  | 31.3     |\n",
      "| rcxyz_mse_q3  | 51.3     |\n",
      "| samples       | 2.25e+03 |\n",
      "| step          | 2.25e+03 |\n",
      "| vel_mse       | 35.7     |\n",
      "| vel_mse_q0    | 42.6     |\n",
      "| vel_mse_q1    | 34.6     |\n",
      "| vel_mse_q2    | 31.6     |\n",
      "| vel_mse_q3    | 33.2     |\n",
      "----------------------------\n"
     ]
    },
    {
     "name": "stderr",
     "output_type": "stream",
     "text": [
      " 69%|██████▉   | 11/16 [00:04<00:01,  2.74it/s]"
     ]
    },
    {
     "name": "stdout",
     "output_type": "stream",
     "text": [
      "step[2250]: loss[723.07405]\n"
     ]
    },
    {
     "name": "stderr",
     "output_type": "stream",
     "text": [
      "100%|██████████| 16/16 [00:05<00:00,  2.82it/s]\n"
     ]
    },
    {
     "name": "stdout",
     "output_type": "stream",
     "text": [
      "Starting epoch 141/313\n"
     ]
    },
    {
     "name": "stderr",
     "output_type": "stream",
     "text": [
      "100%|██████████| 16/16 [00:05<00:00,  3.03it/s]\n"
     ]
    },
    {
     "name": "stdout",
     "output_type": "stream",
     "text": [
      "Starting epoch 142/313\n"
     ]
    },
    {
     "name": "stderr",
     "output_type": "stream",
     "text": [
      "100%|██████████| 16/16 [00:05<00:00,  3.11it/s]\n"
     ]
    },
    {
     "name": "stdout",
     "output_type": "stream",
     "text": [
      "Starting epoch 143/313\n"
     ]
    },
    {
     "name": "stderr",
     "output_type": "stream",
     "text": [
      "100%|██████████| 16/16 [00:05<00:00,  3.14it/s]\n"
     ]
    },
    {
     "name": "stdout",
     "output_type": "stream",
     "text": [
      "Starting epoch 144/313\n"
     ]
    },
    {
     "name": "stderr",
     "output_type": "stream",
     "text": [
      "100%|██████████| 16/16 [00:05<00:00,  3.07it/s]\n"
     ]
    },
    {
     "name": "stdout",
     "output_type": "stream",
     "text": [
      "Starting epoch 145/313\n"
     ]
    },
    {
     "name": "stderr",
     "output_type": "stream",
     "text": [
      "100%|██████████| 16/16 [00:05<00:00,  3.04it/s]\n"
     ]
    },
    {
     "name": "stdout",
     "output_type": "stream",
     "text": [
      "Starting epoch 146/313\n"
     ]
    },
    {
     "name": "stderr",
     "output_type": "stream",
     "text": [
      "100%|██████████| 16/16 [00:05<00:00,  3.07it/s]\n"
     ]
    },
    {
     "name": "stdout",
     "output_type": "stream",
     "text": [
      "Starting epoch 147/313\n"
     ]
    },
    {
     "name": "stderr",
     "output_type": "stream",
     "text": [
      "100%|██████████| 16/16 [00:05<00:00,  2.99it/s]\n"
     ]
    },
    {
     "name": "stdout",
     "output_type": "stream",
     "text": [
      "Starting epoch 148/313\n"
     ]
    },
    {
     "name": "stderr",
     "output_type": "stream",
     "text": [
      "100%|██████████| 16/16 [00:05<00:00,  3.04it/s]\n"
     ]
    },
    {
     "name": "stdout",
     "output_type": "stream",
     "text": [
      "Starting epoch 149/313\n"
     ]
    },
    {
     "name": "stderr",
     "output_type": "stream",
     "text": [
      "100%|██████████| 16/16 [00:05<00:00,  3.08it/s]\n"
     ]
    },
    {
     "name": "stdout",
     "output_type": "stream",
     "text": [
      "Starting epoch 150/313\n"
     ]
    },
    {
     "name": "stderr",
     "output_type": "stream",
     "text": [
      "  0%|          | 0/16 [00:00<?, ?it/s]"
     ]
    },
    {
     "name": "stdout",
     "output_type": "stream",
     "text": [
      "----------------------------\n",
      "| frame_loss    | 98.5     |\n",
      "| frame_loss_q0 | 23.9     |\n",
      "| frame_loss_q1 | 77.1     |\n",
      "| frame_loss_q2 | 133      |\n",
      "| frame_loss_q3 | 157      |\n",
      "| grad_norm     | 285      |\n",
      "| loss          | 740      |\n",
      "| loss_q0       | 519      |\n",
      "| loss_q1       | 603      |\n",
      "| loss_q2       | 779      |\n",
      "| loss_q3       | 1.1e+03  |\n",
      "| param_norm    | 96       |\n",
      "| rcxyz_mse     | 28.1     |\n",
      "| rcxyz_mse_q0  | 7.39     |\n",
      "| rcxyz_mse_q1  | 17       |\n",
      "| rcxyz_mse_q2  | 35.2     |\n",
      "| rcxyz_mse_q3  | 54.7     |\n",
      "| samples       | 2.4e+03  |\n",
      "| step          | 2.4e+03  |\n",
      "| vel_mse       | 36       |\n",
      "| vel_mse_q0    | 42.1     |\n",
      "| vel_mse_q1    | 35.5     |\n",
      "| vel_mse_q2    | 29.4     |\n",
      "| vel_mse_q3    | 39.4     |\n",
      "----------------------------\n"
     ]
    },
    {
     "name": "stderr",
     "output_type": "stream",
     "text": [
      "  6%|▋         | 1/16 [00:00<00:05,  2.95it/s]"
     ]
    },
    {
     "name": "stdout",
     "output_type": "stream",
     "text": [
      "step[2400]: loss[739.74940]\n"
     ]
    },
    {
     "name": "stderr",
     "output_type": "stream",
     "text": [
      "100%|██████████| 16/16 [00:05<00:00,  3.07it/s]\n"
     ]
    },
    {
     "name": "stdout",
     "output_type": "stream",
     "text": [
      "Starting epoch 151/313\n"
     ]
    },
    {
     "name": "stderr",
     "output_type": "stream",
     "text": [
      "100%|██████████| 16/16 [00:05<00:00,  3.06it/s]\n"
     ]
    },
    {
     "name": "stdout",
     "output_type": "stream",
     "text": [
      "Starting epoch 152/313\n"
     ]
    },
    {
     "name": "stderr",
     "output_type": "stream",
     "text": [
      "100%|██████████| 16/16 [00:05<00:00,  3.07it/s]\n"
     ]
    },
    {
     "name": "stdout",
     "output_type": "stream",
     "text": [
      "Starting epoch 153/313\n"
     ]
    },
    {
     "name": "stderr",
     "output_type": "stream",
     "text": [
      "100%|██████████| 16/16 [00:05<00:00,  3.09it/s]\n"
     ]
    },
    {
     "name": "stdout",
     "output_type": "stream",
     "text": [
      "Starting epoch 154/313\n"
     ]
    },
    {
     "name": "stderr",
     "output_type": "stream",
     "text": [
      "100%|██████████| 16/16 [00:05<00:00,  3.01it/s]\n"
     ]
    },
    {
     "name": "stdout",
     "output_type": "stream",
     "text": [
      "Starting epoch 155/313\n"
     ]
    },
    {
     "name": "stderr",
     "output_type": "stream",
     "text": [
      "100%|██████████| 16/16 [00:05<00:00,  3.04it/s]\n"
     ]
    },
    {
     "name": "stdout",
     "output_type": "stream",
     "text": [
      "Starting epoch 156/313\n"
     ]
    },
    {
     "name": "stderr",
     "output_type": "stream",
     "text": [
      "100%|██████████| 16/16 [00:05<00:00,  3.13it/s]\n"
     ]
    },
    {
     "name": "stdout",
     "output_type": "stream",
     "text": [
      "Starting epoch 157/313\n"
     ]
    },
    {
     "name": "stderr",
     "output_type": "stream",
     "text": [
      "100%|██████████| 16/16 [00:05<00:00,  3.06it/s]\n"
     ]
    },
    {
     "name": "stdout",
     "output_type": "stream",
     "text": [
      "Starting epoch 158/313\n"
     ]
    },
    {
     "name": "stderr",
     "output_type": "stream",
     "text": [
      "100%|██████████| 16/16 [00:05<00:00,  3.11it/s]\n"
     ]
    },
    {
     "name": "stdout",
     "output_type": "stream",
     "text": [
      "Starting epoch 159/313\n"
     ]
    },
    {
     "name": "stderr",
     "output_type": "stream",
     "text": [
      " 38%|███▊      | 6/16 [00:02<00:03,  2.85it/s]"
     ]
    },
    {
     "name": "stdout",
     "output_type": "stream",
     "text": [
      "----------------------------\n",
      "| frame_loss    | 94.5     |\n",
      "| frame_loss_q0 | 21.8     |\n",
      "| frame_loss_q1 | 79.9     |\n",
      "| frame_loss_q2 | 131      |\n",
      "| frame_loss_q3 | 155      |\n",
      "| grad_norm     | 262      |\n",
      "| loss          | 748      |\n",
      "| loss_q0       | 583      |\n",
      "| loss_q1       | 570      |\n",
      "| loss_q2       | 813      |\n",
      "| loss_q3       | 1.05e+03 |\n",
      "| param_norm    | 96       |\n",
      "| rcxyz_mse     | 27.3     |\n",
      "| rcxyz_mse_q0  | 7.87     |\n",
      "| rcxyz_mse_q1  | 17.8     |\n",
      "| rcxyz_mse_q2  | 33.9     |\n",
      "| rcxyz_mse_q3  | 52       |\n",
      "| samples       | 2.55e+03 |\n",
      "| step          | 2.55e+03 |\n",
      "| vel_mse       | 38       |\n",
      "| vel_mse_q0    | 48.2     |\n",
      "| vel_mse_q1    | 31.2     |\n",
      "| vel_mse_q2    | 34.3     |\n",
      "| vel_mse_q3    | 38       |\n",
      "----------------------------\n"
     ]
    },
    {
     "name": "stderr",
     "output_type": "stream",
     "text": [
      " 44%|████▍     | 7/16 [00:02<00:03,  2.92it/s]"
     ]
    },
    {
     "name": "stdout",
     "output_type": "stream",
     "text": [
      "step[2550]: loss[748.01190]\n"
     ]
    },
    {
     "name": "stderr",
     "output_type": "stream",
     "text": [
      "100%|██████████| 16/16 [00:05<00:00,  3.02it/s]\n"
     ]
    },
    {
     "name": "stdout",
     "output_type": "stream",
     "text": [
      "Starting epoch 160/313\n"
     ]
    },
    {
     "name": "stderr",
     "output_type": "stream",
     "text": [
      "100%|██████████| 16/16 [00:05<00:00,  3.04it/s]\n"
     ]
    },
    {
     "name": "stdout",
     "output_type": "stream",
     "text": [
      "Starting epoch 161/313\n"
     ]
    },
    {
     "name": "stderr",
     "output_type": "stream",
     "text": [
      "100%|██████████| 16/16 [00:05<00:00,  3.02it/s]\n"
     ]
    },
    {
     "name": "stdout",
     "output_type": "stream",
     "text": [
      "Starting epoch 162/313\n"
     ]
    },
    {
     "name": "stderr",
     "output_type": "stream",
     "text": [
      "100%|██████████| 16/16 [00:05<00:00,  2.96it/s]\n"
     ]
    },
    {
     "name": "stdout",
     "output_type": "stream",
     "text": [
      "Starting epoch 163/313\n"
     ]
    },
    {
     "name": "stderr",
     "output_type": "stream",
     "text": [
      "100%|██████████| 16/16 [00:05<00:00,  2.95it/s]\n"
     ]
    },
    {
     "name": "stdout",
     "output_type": "stream",
     "text": [
      "Starting epoch 164/313\n"
     ]
    },
    {
     "name": "stderr",
     "output_type": "stream",
     "text": [
      "100%|██████████| 16/16 [00:05<00:00,  2.99it/s]\n"
     ]
    },
    {
     "name": "stdout",
     "output_type": "stream",
     "text": [
      "Starting epoch 165/313\n"
     ]
    },
    {
     "name": "stderr",
     "output_type": "stream",
     "text": [
      "100%|██████████| 16/16 [00:05<00:00,  3.01it/s]\n"
     ]
    },
    {
     "name": "stdout",
     "output_type": "stream",
     "text": [
      "Starting epoch 166/313\n"
     ]
    },
    {
     "name": "stderr",
     "output_type": "stream",
     "text": [
      "100%|██████████| 16/16 [00:05<00:00,  2.94it/s]\n"
     ]
    },
    {
     "name": "stdout",
     "output_type": "stream",
     "text": [
      "Starting epoch 167/313\n"
     ]
    },
    {
     "name": "stderr",
     "output_type": "stream",
     "text": [
      "100%|██████████| 16/16 [00:05<00:00,  3.02it/s]\n"
     ]
    },
    {
     "name": "stdout",
     "output_type": "stream",
     "text": [
      "Starting epoch 168/313\n"
     ]
    },
    {
     "name": "stderr",
     "output_type": "stream",
     "text": [
      " 75%|███████▌  | 12/16 [00:04<00:01,  2.89it/s]"
     ]
    },
    {
     "name": "stdout",
     "output_type": "stream",
     "text": [
      "----------------------------\n",
      "| frame_loss    | 94.2     |\n",
      "| frame_loss_q0 | 23.6     |\n",
      "| frame_loss_q1 | 68.8     |\n",
      "| frame_loss_q2 | 130      |\n",
      "| frame_loss_q3 | 154      |\n",
      "| grad_norm     | 260      |\n",
      "| loss          | 736      |\n",
      "| loss_q0       | 554      |\n",
      "| loss_q1       | 557      |\n",
      "| loss_q2       | 773      |\n",
      "| loss_q3       | 1.03e+03 |\n",
      "| param_norm    | 96       |\n",
      "| rcxyz_mse     | 28.6     |\n",
      "| rcxyz_mse_q0  | 9.72     |\n",
      "| rcxyz_mse_q1  | 16.3     |\n",
      "| rcxyz_mse_q2  | 33.3     |\n",
      "| rcxyz_mse_q3  | 53.4     |\n",
      "| samples       | 2.7e+03  |\n",
      "| step          | 2.7e+03  |\n",
      "| vel_mse       | 35.6     |\n",
      "| vel_mse_q0    | 43.3     |\n",
      "| vel_mse_q1    | 32.6     |\n",
      "| vel_mse_q2    | 31.1     |\n",
      "| vel_mse_q3    | 34.3     |\n",
      "----------------------------\n"
     ]
    },
    {
     "name": "stderr",
     "output_type": "stream",
     "text": [
      " 81%|████████▏ | 13/16 [00:04<00:01,  2.85it/s]"
     ]
    },
    {
     "name": "stdout",
     "output_type": "stream",
     "text": [
      "step[2700]: loss[736.05572]\n"
     ]
    },
    {
     "name": "stderr",
     "output_type": "stream",
     "text": [
      "100%|██████████| 16/16 [00:05<00:00,  2.92it/s]\n"
     ]
    },
    {
     "name": "stdout",
     "output_type": "stream",
     "text": [
      "Starting epoch 169/313\n"
     ]
    },
    {
     "name": "stderr",
     "output_type": "stream",
     "text": [
      "100%|██████████| 16/16 [00:05<00:00,  2.97it/s]\n"
     ]
    },
    {
     "name": "stdout",
     "output_type": "stream",
     "text": [
      "Starting epoch 170/313\n"
     ]
    },
    {
     "name": "stderr",
     "output_type": "stream",
     "text": [
      "100%|██████████| 16/16 [00:05<00:00,  2.92it/s]\n"
     ]
    },
    {
     "name": "stdout",
     "output_type": "stream",
     "text": [
      "Starting epoch 171/313\n"
     ]
    },
    {
     "name": "stderr",
     "output_type": "stream",
     "text": [
      "100%|██████████| 16/16 [00:05<00:00,  3.03it/s]\n"
     ]
    },
    {
     "name": "stdout",
     "output_type": "stream",
     "text": [
      "Starting epoch 172/313\n"
     ]
    },
    {
     "name": "stderr",
     "output_type": "stream",
     "text": [
      "100%|██████████| 16/16 [00:05<00:00,  2.99it/s]\n"
     ]
    },
    {
     "name": "stdout",
     "output_type": "stream",
     "text": [
      "Starting epoch 173/313\n"
     ]
    },
    {
     "name": "stderr",
     "output_type": "stream",
     "text": [
      "100%|██████████| 16/16 [00:05<00:00,  2.97it/s]\n"
     ]
    },
    {
     "name": "stdout",
     "output_type": "stream",
     "text": [
      "Starting epoch 174/313\n"
     ]
    },
    {
     "name": "stderr",
     "output_type": "stream",
     "text": [
      "100%|██████████| 16/16 [00:05<00:00,  2.89it/s]\n"
     ]
    },
    {
     "name": "stdout",
     "output_type": "stream",
     "text": [
      "Starting epoch 175/313\n"
     ]
    },
    {
     "name": "stderr",
     "output_type": "stream",
     "text": [
      "100%|██████████| 16/16 [00:05<00:00,  3.01it/s]\n"
     ]
    },
    {
     "name": "stdout",
     "output_type": "stream",
     "text": [
      "Starting epoch 176/313\n"
     ]
    },
    {
     "name": "stderr",
     "output_type": "stream",
     "text": [
      "100%|██████████| 16/16 [00:05<00:00,  3.03it/s]\n"
     ]
    },
    {
     "name": "stdout",
     "output_type": "stream",
     "text": [
      "Starting epoch 177/313\n"
     ]
    },
    {
     "name": "stderr",
     "output_type": "stream",
     "text": [
      "100%|██████████| 16/16 [00:05<00:00,  2.99it/s]\n"
     ]
    },
    {
     "name": "stdout",
     "output_type": "stream",
     "text": [
      "Starting epoch 178/313\n"
     ]
    },
    {
     "name": "stderr",
     "output_type": "stream",
     "text": [
      " 12%|█▎        | 2/16 [00:00<00:04,  2.90it/s]"
     ]
    },
    {
     "name": "stdout",
     "output_type": "stream",
     "text": [
      "----------------------------\n",
      "| frame_loss    | 94.7     |\n",
      "| frame_loss_q0 | 22       |\n",
      "| frame_loss_q1 | 66       |\n",
      "| frame_loss_q2 | 130      |\n",
      "| frame_loss_q3 | 156      |\n",
      "| grad_norm     | 251      |\n",
      "| loss          | 761      |\n",
      "| loss_q0       | 517      |\n",
      "| loss_q1       | 630      |\n",
      "| loss_q2       | 785      |\n",
      "| loss_q3       | 1.1e+03  |\n",
      "| param_norm    | 96.1     |\n",
      "| rcxyz_mse     | 28.9     |\n",
      "| rcxyz_mse_q0  | 7.93     |\n",
      "| rcxyz_mse_q1  | 16.5     |\n",
      "| rcxyz_mse_q2  | 33.3     |\n",
      "| rcxyz_mse_q3  | 56.9     |\n",
      "| samples       | 2.85e+03 |\n",
      "| step          | 2.85e+03 |\n",
      "| vel_mse       | 37.8     |\n",
      "| vel_mse_q0    | 41.6     |\n",
      "| vel_mse_q1    | 39.9     |\n",
      "| vel_mse_q2    | 32.3     |\n",
      "| vel_mse_q3    | 37.9     |\n",
      "----------------------------\n"
     ]
    },
    {
     "name": "stderr",
     "output_type": "stream",
     "text": [
      " 19%|█▉        | 3/16 [00:01<00:04,  3.04it/s]"
     ]
    },
    {
     "name": "stdout",
     "output_type": "stream",
     "text": [
      "step[2850]: loss[761.42929]\n"
     ]
    },
    {
     "name": "stderr",
     "output_type": "stream",
     "text": [
      "100%|██████████| 16/16 [00:05<00:00,  3.02it/s]\n"
     ]
    },
    {
     "name": "stdout",
     "output_type": "stream",
     "text": [
      "Starting epoch 179/313\n"
     ]
    },
    {
     "name": "stderr",
     "output_type": "stream",
     "text": [
      "100%|██████████| 16/16 [00:05<00:00,  3.03it/s]\n"
     ]
    },
    {
     "name": "stdout",
     "output_type": "stream",
     "text": [
      "Starting epoch 180/313\n"
     ]
    },
    {
     "name": "stderr",
     "output_type": "stream",
     "text": [
      "100%|██████████| 16/16 [00:05<00:00,  2.97it/s]\n"
     ]
    },
    {
     "name": "stdout",
     "output_type": "stream",
     "text": [
      "Starting epoch 181/313\n"
     ]
    },
    {
     "name": "stderr",
     "output_type": "stream",
     "text": [
      "100%|██████████| 16/16 [00:05<00:00,  2.91it/s]\n"
     ]
    },
    {
     "name": "stdout",
     "output_type": "stream",
     "text": [
      "Starting epoch 182/313\n"
     ]
    },
    {
     "name": "stderr",
     "output_type": "stream",
     "text": [
      "100%|██████████| 16/16 [00:05<00:00,  3.02it/s]\n"
     ]
    },
    {
     "name": "stdout",
     "output_type": "stream",
     "text": [
      "Starting epoch 183/313\n"
     ]
    },
    {
     "name": "stderr",
     "output_type": "stream",
     "text": [
      "100%|██████████| 16/16 [00:05<00:00,  3.10it/s]\n"
     ]
    },
    {
     "name": "stdout",
     "output_type": "stream",
     "text": [
      "Starting epoch 184/313\n"
     ]
    },
    {
     "name": "stderr",
     "output_type": "stream",
     "text": [
      "100%|██████████| 16/16 [00:05<00:00,  2.94it/s]\n"
     ]
    },
    {
     "name": "stdout",
     "output_type": "stream",
     "text": [
      "Starting epoch 185/313\n"
     ]
    },
    {
     "name": "stderr",
     "output_type": "stream",
     "text": [
      "100%|██████████| 16/16 [00:05<00:00,  2.96it/s]\n"
     ]
    },
    {
     "name": "stdout",
     "output_type": "stream",
     "text": [
      "Starting epoch 186/313\n"
     ]
    },
    {
     "name": "stderr",
     "output_type": "stream",
     "text": [
      "100%|██████████| 16/16 [00:05<00:00,  2.97it/s]\n"
     ]
    },
    {
     "name": "stdout",
     "output_type": "stream",
     "text": [
      "Starting epoch 187/313\n"
     ]
    },
    {
     "name": "stderr",
     "output_type": "stream",
     "text": [
      " 50%|█████     | 8/16 [00:02<00:02,  3.13it/s]"
     ]
    },
    {
     "name": "stdout",
     "output_type": "stream",
     "text": [
      "----------------------------\n",
      "| frame_loss    | 92.6     |\n",
      "| frame_loss_q0 | 19.5     |\n",
      "| frame_loss_q1 | 68.8     |\n",
      "| frame_loss_q2 | 128      |\n",
      "| frame_loss_q3 | 153      |\n",
      "| grad_norm     | 243      |\n",
      "| loss          | 739      |\n",
      "| loss_q0       | 508      |\n",
      "| loss_q1       | 563      |\n",
      "| loss_q2       | 732      |\n",
      "| loss_q3       | 1.11e+03 |\n",
      "| param_norm    | 96.1     |\n",
      "| rcxyz_mse     | 28.7     |\n",
      "| rcxyz_mse_q0  | 8.51     |\n",
      "| rcxyz_mse_q1  | 16.2     |\n",
      "| rcxyz_mse_q2  | 31.3     |\n",
      "| rcxyz_mse_q3  | 56.2     |\n",
      "| samples       | 3e+03    |\n",
      "| step          | 3e+03    |\n",
      "| vel_mse       | 36       |\n",
      "| vel_mse_q0    | 40.4     |\n",
      "| vel_mse_q1    | 33.2     |\n",
      "| vel_mse_q2    | 29.1     |\n",
      "| vel_mse_q3    | 39.8     |\n",
      "----------------------------\n",
      "step[3000]: loss[738.93264]\n",
      "saving model...\n"
     ]
    },
    {
     "name": "stderr",
     "output_type": "stream",
     "text": [
      " 56%|█████▋    | 9/16 [00:03<00:02,  2.78it/s]"
     ]
    },
    {
     "name": "stdout",
     "output_type": "stream",
     "text": [
      "Skipping evaluation for now.\n"
     ]
    },
    {
     "name": "stderr",
     "output_type": "stream",
     "text": [
      "100%|██████████| 16/16 [00:05<00:00,  2.93it/s]\n"
     ]
    },
    {
     "name": "stdout",
     "output_type": "stream",
     "text": [
      "Starting epoch 188/313\n"
     ]
    },
    {
     "name": "stderr",
     "output_type": "stream",
     "text": [
      "100%|██████████| 16/16 [00:05<00:00,  2.99it/s]\n"
     ]
    },
    {
     "name": "stdout",
     "output_type": "stream",
     "text": [
      "Starting epoch 189/313\n"
     ]
    },
    {
     "name": "stderr",
     "output_type": "stream",
     "text": [
      "100%|██████████| 16/16 [00:05<00:00,  2.99it/s]\n"
     ]
    },
    {
     "name": "stdout",
     "output_type": "stream",
     "text": [
      "Starting epoch 190/313\n"
     ]
    },
    {
     "name": "stderr",
     "output_type": "stream",
     "text": [
      "100%|██████████| 16/16 [00:05<00:00,  2.92it/s]\n"
     ]
    },
    {
     "name": "stdout",
     "output_type": "stream",
     "text": [
      "Starting epoch 191/313\n"
     ]
    },
    {
     "name": "stderr",
     "output_type": "stream",
     "text": [
      "100%|██████████| 16/16 [00:05<00:00,  3.08it/s]\n"
     ]
    },
    {
     "name": "stdout",
     "output_type": "stream",
     "text": [
      "Starting epoch 192/313\n"
     ]
    },
    {
     "name": "stderr",
     "output_type": "stream",
     "text": [
      "100%|██████████| 16/16 [00:05<00:00,  3.02it/s]\n"
     ]
    },
    {
     "name": "stdout",
     "output_type": "stream",
     "text": [
      "Starting epoch 193/313\n"
     ]
    },
    {
     "name": "stderr",
     "output_type": "stream",
     "text": [
      "100%|██████████| 16/16 [00:05<00:00,  3.03it/s]\n"
     ]
    },
    {
     "name": "stdout",
     "output_type": "stream",
     "text": [
      "Starting epoch 194/313\n"
     ]
    },
    {
     "name": "stderr",
     "output_type": "stream",
     "text": [
      "100%|██████████| 16/16 [00:05<00:00,  3.01it/s]\n"
     ]
    },
    {
     "name": "stdout",
     "output_type": "stream",
     "text": [
      "Starting epoch 195/313\n"
     ]
    },
    {
     "name": "stderr",
     "output_type": "stream",
     "text": [
      "100%|██████████| 16/16 [00:05<00:00,  2.91it/s]\n"
     ]
    },
    {
     "name": "stdout",
     "output_type": "stream",
     "text": [
      "Starting epoch 196/313\n"
     ]
    },
    {
     "name": "stderr",
     "output_type": "stream",
     "text": [
      " 88%|████████▊ | 14/16 [00:05<00:00,  2.32it/s]"
     ]
    },
    {
     "name": "stdout",
     "output_type": "stream",
     "text": [
      "----------------------------\n",
      "| frame_loss    | 91.6     |\n",
      "| frame_loss_q0 | 19       |\n",
      "| frame_loss_q1 | 68.6     |\n",
      "| frame_loss_q2 | 124      |\n",
      "| frame_loss_q3 | 153      |\n",
      "| grad_norm     | 228      |\n",
      "| loss          | 718      |\n",
      "| loss_q0       | 482      |\n",
      "| loss_q1       | 548      |\n",
      "| loss_q2       | 707      |\n",
      "| loss_q3       | 1.07e+03 |\n",
      "| param_norm    | 96.1     |\n",
      "| rcxyz_mse     | 28.6     |\n",
      "| rcxyz_mse_q0  | 7.76     |\n",
      "| rcxyz_mse_q1  | 16.2     |\n",
      "| rcxyz_mse_q2  | 29.8     |\n",
      "| rcxyz_mse_q3  | 56       |\n",
      "| samples       | 3.15e+03 |\n",
      "| step          | 3.15e+03 |\n",
      "| vel_mse       | 34       |\n",
      "| vel_mse_q0    | 38.5     |\n",
      "| vel_mse_q1    | 31.7     |\n",
      "| vel_mse_q2    | 28.6     |\n",
      "| vel_mse_q3    | 35.4     |\n",
      "----------------------------\n"
     ]
    },
    {
     "name": "stderr",
     "output_type": "stream",
     "text": [
      " 94%|█████████▍| 15/16 [00:05<00:00,  2.48it/s]"
     ]
    },
    {
     "name": "stdout",
     "output_type": "stream",
     "text": [
      "step[3150]: loss[718.27659]\n"
     ]
    },
    {
     "name": "stderr",
     "output_type": "stream",
     "text": [
      "100%|██████████| 16/16 [00:05<00:00,  2.69it/s]\n"
     ]
    },
    {
     "name": "stdout",
     "output_type": "stream",
     "text": [
      "Starting epoch 197/313\n"
     ]
    },
    {
     "name": "stderr",
     "output_type": "stream",
     "text": [
      "100%|██████████| 16/16 [00:05<00:00,  2.98it/s]\n"
     ]
    },
    {
     "name": "stdout",
     "output_type": "stream",
     "text": [
      "Starting epoch 198/313\n"
     ]
    },
    {
     "name": "stderr",
     "output_type": "stream",
     "text": [
      "100%|██████████| 16/16 [00:05<00:00,  2.94it/s]\n"
     ]
    },
    {
     "name": "stdout",
     "output_type": "stream",
     "text": [
      "Starting epoch 199/313\n"
     ]
    },
    {
     "name": "stderr",
     "output_type": "stream",
     "text": [
      "100%|██████████| 16/16 [00:05<00:00,  3.00it/s]\n"
     ]
    },
    {
     "name": "stdout",
     "output_type": "stream",
     "text": [
      "Starting epoch 200/313\n"
     ]
    },
    {
     "name": "stderr",
     "output_type": "stream",
     "text": [
      "100%|██████████| 16/16 [00:05<00:00,  3.05it/s]\n"
     ]
    },
    {
     "name": "stdout",
     "output_type": "stream",
     "text": [
      "Starting epoch 201/313\n"
     ]
    },
    {
     "name": "stderr",
     "output_type": "stream",
     "text": [
      "100%|██████████| 16/16 [00:05<00:00,  2.88it/s]\n"
     ]
    },
    {
     "name": "stdout",
     "output_type": "stream",
     "text": [
      "Starting epoch 202/313\n"
     ]
    },
    {
     "name": "stderr",
     "output_type": "stream",
     "text": [
      "100%|██████████| 16/16 [00:05<00:00,  3.00it/s]\n"
     ]
    },
    {
     "name": "stdout",
     "output_type": "stream",
     "text": [
      "Starting epoch 203/313\n"
     ]
    },
    {
     "name": "stderr",
     "output_type": "stream",
     "text": [
      "100%|██████████| 16/16 [00:05<00:00,  2.91it/s]\n"
     ]
    },
    {
     "name": "stdout",
     "output_type": "stream",
     "text": [
      "Starting epoch 204/313\n"
     ]
    },
    {
     "name": "stderr",
     "output_type": "stream",
     "text": [
      "100%|██████████| 16/16 [00:05<00:00,  3.03it/s]\n"
     ]
    },
    {
     "name": "stdout",
     "output_type": "stream",
     "text": [
      "Starting epoch 205/313\n"
     ]
    },
    {
     "name": "stderr",
     "output_type": "stream",
     "text": [
      "100%|██████████| 16/16 [00:05<00:00,  2.96it/s]\n"
     ]
    },
    {
     "name": "stdout",
     "output_type": "stream",
     "text": [
      "Starting epoch 206/313\n"
     ]
    },
    {
     "name": "stderr",
     "output_type": "stream",
     "text": [
      " 25%|██▌       | 4/16 [00:01<00:03,  3.19it/s]"
     ]
    },
    {
     "name": "stdout",
     "output_type": "stream",
     "text": [
      "----------------------------\n",
      "| frame_loss    | 93       |\n",
      "| frame_loss_q0 | 18.5     |\n",
      "| frame_loss_q1 | 68.9     |\n",
      "| frame_loss_q2 | 131      |\n",
      "| frame_loss_q3 | 153      |\n",
      "| grad_norm     | 226      |\n",
      "| loss          | 725      |\n",
      "| loss_q0       | 510      |\n",
      "| loss_q1       | 560      |\n",
      "| loss_q2       | 745      |\n",
      "| loss_q3       | 1.07e+03 |\n",
      "| param_norm    | 96.1     |\n",
      "| rcxyz_mse     | 28.7     |\n",
      "| rcxyz_mse_q0  | 8.83     |\n",
      "| rcxyz_mse_q1  | 16.9     |\n",
      "| rcxyz_mse_q2  | 32.9     |\n",
      "| rcxyz_mse_q3  | 55.3     |\n",
      "| samples       | 3.3e+03  |\n",
      "| step          | 3.3e+03  |\n",
      "| vel_mse       | 34.4     |\n",
      "| vel_mse_q0    | 40.3     |\n",
      "| vel_mse_q1    | 32.2     |\n",
      "| vel_mse_q2    | 28.6     |\n",
      "| vel_mse_q3    | 35.9     |\n",
      "----------------------------\n"
     ]
    },
    {
     "name": "stderr",
     "output_type": "stream",
     "text": [
      " 31%|███▏      | 5/16 [00:01<00:03,  2.88it/s]"
     ]
    },
    {
     "name": "stdout",
     "output_type": "stream",
     "text": [
      "step[3300]: loss[724.54742]\n"
     ]
    },
    {
     "name": "stderr",
     "output_type": "stream",
     "text": [
      "100%|██████████| 16/16 [00:05<00:00,  3.00it/s]\n"
     ]
    },
    {
     "name": "stdout",
     "output_type": "stream",
     "text": [
      "Starting epoch 207/313\n"
     ]
    },
    {
     "name": "stderr",
     "output_type": "stream",
     "text": [
      "100%|██████████| 16/16 [00:05<00:00,  2.98it/s]\n"
     ]
    },
    {
     "name": "stdout",
     "output_type": "stream",
     "text": [
      "Starting epoch 208/313\n"
     ]
    },
    {
     "name": "stderr",
     "output_type": "stream",
     "text": [
      "100%|██████████| 16/16 [00:05<00:00,  2.95it/s]\n"
     ]
    },
    {
     "name": "stdout",
     "output_type": "stream",
     "text": [
      "Starting epoch 209/313\n"
     ]
    },
    {
     "name": "stderr",
     "output_type": "stream",
     "text": [
      "100%|██████████| 16/16 [00:05<00:00,  2.99it/s]\n"
     ]
    },
    {
     "name": "stdout",
     "output_type": "stream",
     "text": [
      "Starting epoch 210/313\n"
     ]
    },
    {
     "name": "stderr",
     "output_type": "stream",
     "text": [
      "100%|██████████| 16/16 [00:05<00:00,  3.05it/s]\n"
     ]
    },
    {
     "name": "stdout",
     "output_type": "stream",
     "text": [
      "Starting epoch 211/313\n"
     ]
    },
    {
     "name": "stderr",
     "output_type": "stream",
     "text": [
      "100%|██████████| 16/16 [00:05<00:00,  3.01it/s]\n"
     ]
    },
    {
     "name": "stdout",
     "output_type": "stream",
     "text": [
      "Starting epoch 212/313\n"
     ]
    },
    {
     "name": "stderr",
     "output_type": "stream",
     "text": [
      "100%|██████████| 16/16 [00:05<00:00,  2.97it/s]\n"
     ]
    },
    {
     "name": "stdout",
     "output_type": "stream",
     "text": [
      "Starting epoch 213/313\n"
     ]
    },
    {
     "name": "stderr",
     "output_type": "stream",
     "text": [
      "100%|██████████| 16/16 [00:05<00:00,  2.97it/s]\n"
     ]
    },
    {
     "name": "stdout",
     "output_type": "stream",
     "text": [
      "Starting epoch 214/313\n"
     ]
    },
    {
     "name": "stderr",
     "output_type": "stream",
     "text": [
      "100%|██████████| 16/16 [00:05<00:00,  2.96it/s]\n"
     ]
    },
    {
     "name": "stdout",
     "output_type": "stream",
     "text": [
      "Starting epoch 215/313\n"
     ]
    },
    {
     "name": "stderr",
     "output_type": "stream",
     "text": [
      " 62%|██████▎   | 10/16 [00:03<00:01,  3.11it/s]"
     ]
    },
    {
     "name": "stdout",
     "output_type": "stream",
     "text": [
      "----------------------------\n",
      "| frame_loss    | 98.1     |\n",
      "| frame_loss_q0 | 19.1     |\n",
      "| frame_loss_q1 | 67.6     |\n",
      "| frame_loss_q2 | 129      |\n",
      "| frame_loss_q3 | 154      |\n",
      "| grad_norm     | 218      |\n",
      "| loss          | 765      |\n",
      "| loss_q0       | 472      |\n",
      "| loss_q1       | 543      |\n",
      "| loss_q2       | 776      |\n",
      "| loss_q3       | 1.13e+03 |\n",
      "| param_norm    | 96.1     |\n",
      "| rcxyz_mse     | 31.1     |\n",
      "| rcxyz_mse_q0  | 9.61     |\n",
      "| rcxyz_mse_q1  | 14.8     |\n",
      "| rcxyz_mse_q2  | 32.8     |\n",
      "| rcxyz_mse_q3  | 57.5     |\n",
      "| samples       | 3.45e+03 |\n",
      "| step          | 3.45e+03 |\n",
      "| vel_mse       | 35.6     |\n",
      "| vel_mse_q0    | 35.7     |\n",
      "| vel_mse_q1    | 32.8     |\n",
      "| vel_mse_q2    | 31.8     |\n",
      "| vel_mse_q3    | 40.5     |\n",
      "----------------------------\n"
     ]
    },
    {
     "name": "stderr",
     "output_type": "stream",
     "text": [
      " 69%|██████▉   | 11/16 [00:03<00:01,  3.07it/s]"
     ]
    },
    {
     "name": "stdout",
     "output_type": "stream",
     "text": [
      "step[3450]: loss[764.56867]\n"
     ]
    },
    {
     "name": "stderr",
     "output_type": "stream",
     "text": [
      "100%|██████████| 16/16 [00:05<00:00,  3.00it/s]\n"
     ]
    },
    {
     "name": "stdout",
     "output_type": "stream",
     "text": [
      "Starting epoch 216/313\n"
     ]
    },
    {
     "name": "stderr",
     "output_type": "stream",
     "text": [
      "100%|██████████| 16/16 [00:05<00:00,  3.00it/s]\n"
     ]
    },
    {
     "name": "stdout",
     "output_type": "stream",
     "text": [
      "Starting epoch 217/313\n"
     ]
    },
    {
     "name": "stderr",
     "output_type": "stream",
     "text": [
      "100%|██████████| 16/16 [00:05<00:00,  2.96it/s]\n"
     ]
    },
    {
     "name": "stdout",
     "output_type": "stream",
     "text": [
      "Starting epoch 218/313\n"
     ]
    },
    {
     "name": "stderr",
     "output_type": "stream",
     "text": [
      "100%|██████████| 16/16 [00:05<00:00,  2.97it/s]\n"
     ]
    },
    {
     "name": "stdout",
     "output_type": "stream",
     "text": [
      "Starting epoch 219/313\n"
     ]
    },
    {
     "name": "stderr",
     "output_type": "stream",
     "text": [
      "100%|██████████| 16/16 [00:05<00:00,  2.93it/s]\n"
     ]
    },
    {
     "name": "stdout",
     "output_type": "stream",
     "text": [
      "Starting epoch 220/313\n"
     ]
    },
    {
     "name": "stderr",
     "output_type": "stream",
     "text": [
      "100%|██████████| 16/16 [00:05<00:00,  2.89it/s]\n"
     ]
    },
    {
     "name": "stdout",
     "output_type": "stream",
     "text": [
      "Starting epoch 221/313\n"
     ]
    },
    {
     "name": "stderr",
     "output_type": "stream",
     "text": [
      "100%|██████████| 16/16 [00:05<00:00,  2.95it/s]\n"
     ]
    },
    {
     "name": "stdout",
     "output_type": "stream",
     "text": [
      "Starting epoch 222/313\n"
     ]
    },
    {
     "name": "stderr",
     "output_type": "stream",
     "text": [
      "100%|██████████| 16/16 [00:05<00:00,  2.97it/s]\n"
     ]
    },
    {
     "name": "stdout",
     "output_type": "stream",
     "text": [
      "Starting epoch 223/313\n"
     ]
    },
    {
     "name": "stderr",
     "output_type": "stream",
     "text": [
      "100%|██████████| 16/16 [00:05<00:00,  3.02it/s]\n"
     ]
    },
    {
     "name": "stdout",
     "output_type": "stream",
     "text": [
      "Starting epoch 224/313\n"
     ]
    },
    {
     "name": "stderr",
     "output_type": "stream",
     "text": [
      "100%|██████████| 16/16 [00:05<00:00,  2.98it/s]\n"
     ]
    },
    {
     "name": "stdout",
     "output_type": "stream",
     "text": [
      "Starting epoch 225/313\n"
     ]
    },
    {
     "name": "stderr",
     "output_type": "stream",
     "text": [
      "  0%|          | 0/16 [00:00<?, ?it/s]"
     ]
    },
    {
     "name": "stdout",
     "output_type": "stream",
     "text": [
      "----------------------------\n",
      "| frame_loss    | 95.4     |\n",
      "| frame_loss_q0 | 19.6     |\n",
      "| frame_loss_q1 | 71.4     |\n",
      "| frame_loss_q2 | 127      |\n",
      "| frame_loss_q3 | 153      |\n",
      "| grad_norm     | 211      |\n",
      "| loss          | 733      |\n",
      "| loss_q0       | 416      |\n",
      "| loss_q1       | 556      |\n",
      "| loss_q2       | 740      |\n",
      "| loss_q3       | 1.11e+03 |\n",
      "| param_norm    | 96.1     |\n",
      "| rcxyz_mse     | 30       |\n",
      "| rcxyz_mse_q0  | 8.43     |\n",
      "| rcxyz_mse_q1  | 15.4     |\n",
      "| rcxyz_mse_q2  | 30       |\n",
      "| rcxyz_mse_q3  | 58.4     |\n",
      "| samples       | 3.6e+03  |\n",
      "| step          | 3.6e+03  |\n",
      "| vel_mse       | 33.8     |\n",
      "| vel_mse_q0    | 31.2     |\n",
      "| vel_mse_q1    | 33.1     |\n",
      "| vel_mse_q2    | 31.4     |\n",
      "| vel_mse_q3    | 37.7     |\n",
      "----------------------------\n"
     ]
    },
    {
     "name": "stderr",
     "output_type": "stream",
     "text": [
      "  6%|▋         | 1/16 [00:00<00:05,  2.55it/s]"
     ]
    },
    {
     "name": "stdout",
     "output_type": "stream",
     "text": [
      "step[3600]: loss[733.03830]\n"
     ]
    },
    {
     "name": "stderr",
     "output_type": "stream",
     "text": [
      "100%|██████████| 16/16 [00:05<00:00,  2.99it/s]\n"
     ]
    },
    {
     "name": "stdout",
     "output_type": "stream",
     "text": [
      "Starting epoch 226/313\n"
     ]
    },
    {
     "name": "stderr",
     "output_type": "stream",
     "text": [
      "100%|██████████| 16/16 [00:05<00:00,  3.01it/s]\n"
     ]
    },
    {
     "name": "stdout",
     "output_type": "stream",
     "text": [
      "Starting epoch 227/313\n"
     ]
    },
    {
     "name": "stderr",
     "output_type": "stream",
     "text": [
      "100%|██████████| 16/16 [00:05<00:00,  2.99it/s]\n"
     ]
    },
    {
     "name": "stdout",
     "output_type": "stream",
     "text": [
      "Starting epoch 228/313\n"
     ]
    },
    {
     "name": "stderr",
     "output_type": "stream",
     "text": [
      "100%|██████████| 16/16 [00:05<00:00,  3.08it/s]\n"
     ]
    },
    {
     "name": "stdout",
     "output_type": "stream",
     "text": [
      "Starting epoch 229/313\n"
     ]
    },
    {
     "name": "stderr",
     "output_type": "stream",
     "text": [
      "100%|██████████| 16/16 [00:05<00:00,  2.99it/s]\n"
     ]
    },
    {
     "name": "stdout",
     "output_type": "stream",
     "text": [
      "Starting epoch 230/313\n"
     ]
    },
    {
     "name": "stderr",
     "output_type": "stream",
     "text": [
      "100%|██████████| 16/16 [00:05<00:00,  3.04it/s]\n"
     ]
    },
    {
     "name": "stdout",
     "output_type": "stream",
     "text": [
      "Starting epoch 231/313\n"
     ]
    },
    {
     "name": "stderr",
     "output_type": "stream",
     "text": [
      "100%|██████████| 16/16 [00:05<00:00,  3.06it/s]\n"
     ]
    },
    {
     "name": "stdout",
     "output_type": "stream",
     "text": [
      "Starting epoch 232/313\n"
     ]
    },
    {
     "name": "stderr",
     "output_type": "stream",
     "text": [
      "100%|██████████| 16/16 [00:05<00:00,  3.03it/s]\n"
     ]
    },
    {
     "name": "stdout",
     "output_type": "stream",
     "text": [
      "Starting epoch 233/313\n"
     ]
    },
    {
     "name": "stderr",
     "output_type": "stream",
     "text": [
      "100%|██████████| 16/16 [00:05<00:00,  3.18it/s]\n"
     ]
    },
    {
     "name": "stdout",
     "output_type": "stream",
     "text": [
      "Starting epoch 234/313\n"
     ]
    },
    {
     "name": "stderr",
     "output_type": "stream",
     "text": [
      " 38%|███▊      | 6/16 [00:02<00:03,  3.09it/s]"
     ]
    },
    {
     "name": "stdout",
     "output_type": "stream",
     "text": [
      "----------------------------\n",
      "| frame_loss    | 81.7     |\n",
      "| frame_loss_q0 | 17.9     |\n",
      "| frame_loss_q1 | 69.3     |\n",
      "| frame_loss_q2 | 126      |\n",
      "| frame_loss_q3 | 152      |\n",
      "| grad_norm     | 213      |\n",
      "| loss          | 674      |\n",
      "| loss_q0       | 466      |\n",
      "| loss_q1       | 583      |\n",
      "| loss_q2       | 736      |\n",
      "| loss_q3       | 1.08e+03 |\n",
      "| param_norm    | 96.1     |\n",
      "| rcxyz_mse     | 24.6     |\n",
      "| rcxyz_mse_q0  | 7.53     |\n",
      "| rcxyz_mse_q1  | 15.8     |\n",
      "| rcxyz_mse_q2  | 33.1     |\n",
      "| rcxyz_mse_q3  | 55.4     |\n",
      "| samples       | 3.75e+03 |\n",
      "| step          | 3.75e+03 |\n",
      "| vel_mse       | 34.7     |\n",
      "| vel_mse_q0    | 37.3     |\n",
      "| vel_mse_q1    | 35.6     |\n",
      "| vel_mse_q2    | 28       |\n",
      "| vel_mse_q3    | 37.1     |\n",
      "----------------------------\n"
     ]
    },
    {
     "name": "stderr",
     "output_type": "stream",
     "text": [
      " 44%|████▍     | 7/16 [00:02<00:03,  2.99it/s]"
     ]
    },
    {
     "name": "stdout",
     "output_type": "stream",
     "text": [
      "step[3750]: loss[674.29927]\n"
     ]
    },
    {
     "name": "stderr",
     "output_type": "stream",
     "text": [
      "100%|██████████| 16/16 [00:05<00:00,  2.97it/s]\n"
     ]
    },
    {
     "name": "stdout",
     "output_type": "stream",
     "text": [
      "Starting epoch 235/313\n"
     ]
    },
    {
     "name": "stderr",
     "output_type": "stream",
     "text": [
      "100%|██████████| 16/16 [00:05<00:00,  2.96it/s]\n"
     ]
    },
    {
     "name": "stdout",
     "output_type": "stream",
     "text": [
      "Starting epoch 236/313\n"
     ]
    },
    {
     "name": "stderr",
     "output_type": "stream",
     "text": [
      "100%|██████████| 16/16 [00:05<00:00,  3.06it/s]\n"
     ]
    },
    {
     "name": "stdout",
     "output_type": "stream",
     "text": [
      "Starting epoch 237/313\n"
     ]
    },
    {
     "name": "stderr",
     "output_type": "stream",
     "text": [
      "100%|██████████| 16/16 [00:05<00:00,  3.09it/s]\n"
     ]
    },
    {
     "name": "stdout",
     "output_type": "stream",
     "text": [
      "Starting epoch 238/313\n"
     ]
    },
    {
     "name": "stderr",
     "output_type": "stream",
     "text": [
      "100%|██████████| 16/16 [00:05<00:00,  2.98it/s]\n"
     ]
    },
    {
     "name": "stdout",
     "output_type": "stream",
     "text": [
      "Starting epoch 239/313\n"
     ]
    },
    {
     "name": "stderr",
     "output_type": "stream",
     "text": [
      "100%|██████████| 16/16 [00:05<00:00,  2.98it/s]\n"
     ]
    },
    {
     "name": "stdout",
     "output_type": "stream",
     "text": [
      "Starting epoch 240/313\n"
     ]
    },
    {
     "name": "stderr",
     "output_type": "stream",
     "text": [
      "100%|██████████| 16/16 [00:05<00:00,  3.02it/s]\n"
     ]
    },
    {
     "name": "stdout",
     "output_type": "stream",
     "text": [
      "Starting epoch 241/313\n"
     ]
    },
    {
     "name": "stderr",
     "output_type": "stream",
     "text": [
      "100%|██████████| 16/16 [00:05<00:00,  2.98it/s]\n"
     ]
    },
    {
     "name": "stdout",
     "output_type": "stream",
     "text": [
      "Starting epoch 242/313\n"
     ]
    },
    {
     "name": "stderr",
     "output_type": "stream",
     "text": [
      "100%|██████████| 16/16 [00:05<00:00,  3.12it/s]\n"
     ]
    },
    {
     "name": "stdout",
     "output_type": "stream",
     "text": [
      "Starting epoch 243/313\n"
     ]
    },
    {
     "name": "stderr",
     "output_type": "stream",
     "text": [
      " 75%|███████▌  | 12/16 [00:04<00:01,  2.98it/s]"
     ]
    },
    {
     "name": "stdout",
     "output_type": "stream",
     "text": [
      "----------------------------\n",
      "| frame_loss    | 84.1     |\n",
      "| frame_loss_q0 | 17.4     |\n",
      "| frame_loss_q1 | 65.9     |\n",
      "| frame_loss_q2 | 126      |\n",
      "| frame_loss_q3 | 152      |\n",
      "| grad_norm     | 206      |\n",
      "| loss          | 685      |\n",
      "| loss_q0       | 425      |\n",
      "| loss_q1       | 587      |\n",
      "| loss_q2       | 748      |\n",
      "| loss_q3       | 1.08e+03 |\n",
      "| param_norm    | 96.1     |\n",
      "| rcxyz_mse     | 27.2     |\n",
      "| rcxyz_mse_q0  | 7.83     |\n",
      "| rcxyz_mse_q1  | 16.9     |\n",
      "| rcxyz_mse_q2  | 33.8     |\n",
      "| rcxyz_mse_q3  | 57.7     |\n",
      "| samples       | 3.9e+03  |\n",
      "| step          | 3.9e+03  |\n",
      "| vel_mse       | 32.9     |\n",
      "| vel_mse_q0    | 32.9     |\n",
      "| vel_mse_q1    | 35.2     |\n",
      "| vel_mse_q2    | 28.4     |\n",
      "| vel_mse_q3    | 35.4     |\n",
      "----------------------------\n"
     ]
    },
    {
     "name": "stderr",
     "output_type": "stream",
     "text": [
      " 81%|████████▏ | 13/16 [00:04<00:00,  3.08it/s]"
     ]
    },
    {
     "name": "stdout",
     "output_type": "stream",
     "text": [
      "step[3900]: loss[685.27466]\n"
     ]
    },
    {
     "name": "stderr",
     "output_type": "stream",
     "text": [
      "100%|██████████| 16/16 [00:05<00:00,  3.01it/s]\n"
     ]
    },
    {
     "name": "stdout",
     "output_type": "stream",
     "text": [
      "Starting epoch 244/313\n"
     ]
    },
    {
     "name": "stderr",
     "output_type": "stream",
     "text": [
      "100%|██████████| 16/16 [00:05<00:00,  3.03it/s]\n"
     ]
    },
    {
     "name": "stdout",
     "output_type": "stream",
     "text": [
      "Starting epoch 245/313\n"
     ]
    },
    {
     "name": "stderr",
     "output_type": "stream",
     "text": [
      "100%|██████████| 16/16 [00:05<00:00,  3.01it/s]\n"
     ]
    },
    {
     "name": "stdout",
     "output_type": "stream",
     "text": [
      "Starting epoch 246/313\n"
     ]
    },
    {
     "name": "stderr",
     "output_type": "stream",
     "text": [
      "100%|██████████| 16/16 [00:05<00:00,  3.02it/s]\n"
     ]
    },
    {
     "name": "stdout",
     "output_type": "stream",
     "text": [
      "Starting epoch 247/313\n"
     ]
    },
    {
     "name": "stderr",
     "output_type": "stream",
     "text": [
      "100%|██████████| 16/16 [00:05<00:00,  3.07it/s]\n"
     ]
    },
    {
     "name": "stdout",
     "output_type": "stream",
     "text": [
      "Starting epoch 248/313\n"
     ]
    },
    {
     "name": "stderr",
     "output_type": "stream",
     "text": [
      "100%|██████████| 16/16 [00:05<00:00,  3.01it/s]\n"
     ]
    },
    {
     "name": "stdout",
     "output_type": "stream",
     "text": [
      "Starting epoch 249/313\n"
     ]
    },
    {
     "name": "stderr",
     "output_type": "stream",
     "text": [
      "100%|██████████| 16/16 [00:05<00:00,  2.88it/s]\n"
     ]
    },
    {
     "name": "stdout",
     "output_type": "stream",
     "text": [
      "Starting epoch 250/313\n"
     ]
    },
    {
     "name": "stderr",
     "output_type": "stream",
     "text": [
      "  0%|          | 0/16 [00:00<?, ?it/s]"
     ]
    },
    {
     "name": "stdout",
     "output_type": "stream",
     "text": [
      "saving model...\n"
     ]
    },
    {
     "name": "stderr",
     "output_type": "stream",
     "text": [
      "  6%|▋         | 1/16 [00:00<00:06,  2.42it/s]"
     ]
    },
    {
     "name": "stdout",
     "output_type": "stream",
     "text": [
      "Skipping evaluation for now.\n"
     ]
    },
    {
     "name": "stderr",
     "output_type": "stream",
     "text": [
      "100%|██████████| 16/16 [00:05<00:00,  2.90it/s]\n"
     ]
    },
    {
     "name": "stdout",
     "output_type": "stream",
     "text": [
      "Starting epoch 251/313\n"
     ]
    },
    {
     "name": "stderr",
     "output_type": "stream",
     "text": [
      "100%|██████████| 16/16 [00:05<00:00,  2.95it/s]\n"
     ]
    },
    {
     "name": "stdout",
     "output_type": "stream",
     "text": [
      "Starting epoch 252/313\n"
     ]
    },
    {
     "name": "stderr",
     "output_type": "stream",
     "text": [
      "100%|██████████| 16/16 [00:05<00:00,  2.77it/s]\n"
     ]
    },
    {
     "name": "stdout",
     "output_type": "stream",
     "text": [
      "Starting epoch 253/313\n"
     ]
    },
    {
     "name": "stderr",
     "output_type": "stream",
     "text": [
      " 12%|█▎        | 2/16 [00:00<00:04,  3.06it/s]"
     ]
    },
    {
     "name": "stdout",
     "output_type": "stream",
     "text": [
      "----------------------------\n",
      "| frame_loss    | 83.6     |\n",
      "| frame_loss_q0 | 16.1     |\n",
      "| frame_loss_q1 | 71.2     |\n",
      "| frame_loss_q2 | 124      |\n",
      "| frame_loss_q3 | 153      |\n",
      "| grad_norm     | 198      |\n",
      "| loss          | 688      |\n",
      "| loss_q0       | 441      |\n",
      "| loss_q1       | 533      |\n",
      "| loss_q2       | 792      |\n",
      "| loss_q3       | 1.12e+03 |\n",
      "| param_norm    | 96.1     |\n",
      "| rcxyz_mse     | 26.8     |\n",
      "| rcxyz_mse_q0  | 8.1      |\n",
      "| rcxyz_mse_q1  | 15.9     |\n",
      "| rcxyz_mse_q2  | 34.1     |\n",
      "| rcxyz_mse_q3  | 58.8     |\n",
      "| samples       | 4.05e+03 |\n",
      "| step          | 4.05e+03 |\n",
      "| vel_mse       | 33.7     |\n",
      "| vel_mse_q0    | 34.4     |\n",
      "| vel_mse_q1    | 30.3     |\n",
      "| vel_mse_q2    | 32.7     |\n",
      "| vel_mse_q3    | 37.8     |\n",
      "----------------------------\n"
     ]
    },
    {
     "name": "stderr",
     "output_type": "stream",
     "text": [
      " 19%|█▉        | 3/16 [00:00<00:04,  3.14it/s]"
     ]
    },
    {
     "name": "stdout",
     "output_type": "stream",
     "text": [
      "step[4050]: loss[688.38287]\n"
     ]
    },
    {
     "name": "stderr",
     "output_type": "stream",
     "text": [
      "100%|██████████| 16/16 [00:05<00:00,  2.96it/s]\n"
     ]
    },
    {
     "name": "stdout",
     "output_type": "stream",
     "text": [
      "Starting epoch 254/313\n"
     ]
    },
    {
     "name": "stderr",
     "output_type": "stream",
     "text": [
      "100%|██████████| 16/16 [00:05<00:00,  2.90it/s]\n"
     ]
    },
    {
     "name": "stdout",
     "output_type": "stream",
     "text": [
      "Starting epoch 255/313\n"
     ]
    },
    {
     "name": "stderr",
     "output_type": "stream",
     "text": [
      "100%|██████████| 16/16 [00:05<00:00,  3.03it/s]\n"
     ]
    },
    {
     "name": "stdout",
     "output_type": "stream",
     "text": [
      "Starting epoch 256/313\n"
     ]
    },
    {
     "name": "stderr",
     "output_type": "stream",
     "text": [
      "100%|██████████| 16/16 [00:05<00:00,  3.02it/s]\n"
     ]
    },
    {
     "name": "stdout",
     "output_type": "stream",
     "text": [
      "Starting epoch 257/313\n"
     ]
    },
    {
     "name": "stderr",
     "output_type": "stream",
     "text": [
      "100%|██████████| 16/16 [00:05<00:00,  3.03it/s]\n"
     ]
    },
    {
     "name": "stdout",
     "output_type": "stream",
     "text": [
      "Starting epoch 258/313\n"
     ]
    },
    {
     "name": "stderr",
     "output_type": "stream",
     "text": [
      "100%|██████████| 16/16 [00:05<00:00,  2.88it/s]\n"
     ]
    },
    {
     "name": "stdout",
     "output_type": "stream",
     "text": [
      "Starting epoch 259/313\n"
     ]
    },
    {
     "name": "stderr",
     "output_type": "stream",
     "text": [
      "100%|██████████| 16/16 [00:05<00:00,  3.04it/s]\n"
     ]
    },
    {
     "name": "stdout",
     "output_type": "stream",
     "text": [
      "Starting epoch 260/313\n"
     ]
    },
    {
     "name": "stderr",
     "output_type": "stream",
     "text": [
      "100%|██████████| 16/16 [00:05<00:00,  2.99it/s]\n"
     ]
    },
    {
     "name": "stdout",
     "output_type": "stream",
     "text": [
      "Starting epoch 261/313\n"
     ]
    },
    {
     "name": "stderr",
     "output_type": "stream",
     "text": [
      "100%|██████████| 16/16 [00:05<00:00,  2.94it/s]\n"
     ]
    },
    {
     "name": "stdout",
     "output_type": "stream",
     "text": [
      "Starting epoch 262/313\n"
     ]
    },
    {
     "name": "stderr",
     "output_type": "stream",
     "text": [
      " 50%|█████     | 8/16 [00:02<00:02,  2.94it/s]"
     ]
    },
    {
     "name": "stdout",
     "output_type": "stream",
     "text": [
      "----------------------------\n",
      "| frame_loss    | 96.8     |\n",
      "| frame_loss_q0 | 17       |\n",
      "| frame_loss_q1 | 76.4     |\n",
      "| frame_loss_q2 | 124      |\n",
      "| frame_loss_q3 | 153      |\n",
      "| grad_norm     | 200      |\n",
      "| loss          | 737      |\n",
      "| loss_q0       | 452      |\n",
      "| loss_q1       | 584      |\n",
      "| loss_q2       | 740      |\n",
      "| loss_q3       | 1.11e+03 |\n",
      "| param_norm    | 96.2     |\n",
      "| rcxyz_mse     | 29.9     |\n",
      "| rcxyz_mse_q0  | 7.39     |\n",
      "| rcxyz_mse_q1  | 17.1     |\n",
      "| rcxyz_mse_q2  | 30.8     |\n",
      "| rcxyz_mse_q3  | 59.3     |\n",
      "| samples       | 4.2e+03  |\n",
      "| step          | 4.2e+03  |\n",
      "| vel_mse       | 34.1     |\n",
      "| vel_mse_q0    | 36.1     |\n",
      "| vel_mse_q1    | 33.6     |\n",
      "| vel_mse_q2    | 30.8     |\n",
      "| vel_mse_q3    | 36.5     |\n",
      "----------------------------\n"
     ]
    },
    {
     "name": "stderr",
     "output_type": "stream",
     "text": [
      " 56%|█████▋    | 9/16 [00:03<00:02,  2.88it/s]"
     ]
    },
    {
     "name": "stdout",
     "output_type": "stream",
     "text": [
      "step[4200]: loss[736.72913]\n"
     ]
    },
    {
     "name": "stderr",
     "output_type": "stream",
     "text": [
      "100%|██████████| 16/16 [00:05<00:00,  2.93it/s]\n"
     ]
    },
    {
     "name": "stdout",
     "output_type": "stream",
     "text": [
      "Starting epoch 263/313\n"
     ]
    },
    {
     "name": "stderr",
     "output_type": "stream",
     "text": [
      "100%|██████████| 16/16 [00:05<00:00,  2.97it/s]\n"
     ]
    },
    {
     "name": "stdout",
     "output_type": "stream",
     "text": [
      "Starting epoch 264/313\n"
     ]
    },
    {
     "name": "stderr",
     "output_type": "stream",
     "text": [
      "100%|██████████| 16/16 [00:05<00:00,  3.12it/s]\n"
     ]
    },
    {
     "name": "stdout",
     "output_type": "stream",
     "text": [
      "Starting epoch 265/313\n"
     ]
    },
    {
     "name": "stderr",
     "output_type": "stream",
     "text": [
      "100%|██████████| 16/16 [00:05<00:00,  3.07it/s]\n"
     ]
    },
    {
     "name": "stdout",
     "output_type": "stream",
     "text": [
      "Starting epoch 266/313\n"
     ]
    },
    {
     "name": "stderr",
     "output_type": "stream",
     "text": [
      "100%|██████████| 16/16 [00:05<00:00,  2.90it/s]\n"
     ]
    },
    {
     "name": "stdout",
     "output_type": "stream",
     "text": [
      "Starting epoch 267/313\n"
     ]
    },
    {
     "name": "stderr",
     "output_type": "stream",
     "text": [
      "100%|██████████| 16/16 [00:05<00:00,  2.93it/s]\n"
     ]
    },
    {
     "name": "stdout",
     "output_type": "stream",
     "text": [
      "Starting epoch 268/313\n"
     ]
    },
    {
     "name": "stderr",
     "output_type": "stream",
     "text": [
      "100%|██████████| 16/16 [00:05<00:00,  2.95it/s]\n"
     ]
    },
    {
     "name": "stdout",
     "output_type": "stream",
     "text": [
      "Starting epoch 269/313\n"
     ]
    },
    {
     "name": "stderr",
     "output_type": "stream",
     "text": [
      "100%|██████████| 16/16 [00:05<00:00,  3.00it/s]\n"
     ]
    },
    {
     "name": "stdout",
     "output_type": "stream",
     "text": [
      "Starting epoch 270/313\n"
     ]
    },
    {
     "name": "stderr",
     "output_type": "stream",
     "text": [
      "100%|██████████| 16/16 [00:05<00:00,  2.96it/s]\n"
     ]
    },
    {
     "name": "stdout",
     "output_type": "stream",
     "text": [
      "Starting epoch 271/313\n"
     ]
    },
    {
     "name": "stderr",
     "output_type": "stream",
     "text": [
      " 88%|████████▊ | 14/16 [00:04<00:00,  3.02it/s]"
     ]
    },
    {
     "name": "stdout",
     "output_type": "stream",
     "text": [
      "----------------------------\n",
      "| frame_loss    | 99.4     |\n",
      "| frame_loss_q0 | 18.1     |\n",
      "| frame_loss_q1 | 63.4     |\n",
      "| frame_loss_q2 | 126      |\n",
      "| frame_loss_q3 | 153      |\n",
      "| grad_norm     | 184      |\n",
      "| loss          | 756      |\n",
      "| loss_q0       | 454      |\n",
      "| loss_q1       | 572      |\n",
      "| loss_q2       | 739      |\n",
      "| loss_q3       | 1.1e+03  |\n",
      "| param_norm    | 96.2     |\n",
      "| rcxyz_mse     | 32.5     |\n",
      "| rcxyz_mse_q0  | 8.45     |\n",
      "| rcxyz_mse_q1  | 15.5     |\n",
      "| rcxyz_mse_q2  | 33.2     |\n",
      "| rcxyz_mse_q3  | 60.1     |\n",
      "| samples       | 4.35e+03 |\n",
      "| step          | 4.35e+03 |\n",
      "| vel_mse       | 33.1     |\n",
      "| vel_mse_q0    | 35.1     |\n",
      "| vel_mse_q1    | 35.3     |\n",
      "| vel_mse_q2    | 28.1     |\n",
      "| vel_mse_q3    | 34.7     |\n",
      "----------------------------\n"
     ]
    },
    {
     "name": "stderr",
     "output_type": "stream",
     "text": [
      " 94%|█████████▍| 15/16 [00:05<00:00,  2.97it/s]"
     ]
    },
    {
     "name": "stdout",
     "output_type": "stream",
     "text": [
      "step[4350]: loss[755.57569]\n"
     ]
    },
    {
     "name": "stderr",
     "output_type": "stream",
     "text": [
      "100%|██████████| 16/16 [00:05<00:00,  2.86it/s]\n"
     ]
    },
    {
     "name": "stdout",
     "output_type": "stream",
     "text": [
      "Starting epoch 272/313\n"
     ]
    },
    {
     "name": "stderr",
     "output_type": "stream",
     "text": [
      "100%|██████████| 16/16 [00:05<00:00,  2.97it/s]\n"
     ]
    },
    {
     "name": "stdout",
     "output_type": "stream",
     "text": [
      "Starting epoch 273/313\n"
     ]
    },
    {
     "name": "stderr",
     "output_type": "stream",
     "text": [
      "100%|██████████| 16/16 [00:05<00:00,  3.06it/s]\n"
     ]
    },
    {
     "name": "stdout",
     "output_type": "stream",
     "text": [
      "Starting epoch 274/313\n"
     ]
    },
    {
     "name": "stderr",
     "output_type": "stream",
     "text": [
      "100%|██████████| 16/16 [00:05<00:00,  2.90it/s]\n"
     ]
    },
    {
     "name": "stdout",
     "output_type": "stream",
     "text": [
      "Starting epoch 275/313\n"
     ]
    },
    {
     "name": "stderr",
     "output_type": "stream",
     "text": [
      "100%|██████████| 16/16 [00:05<00:00,  2.93it/s]\n"
     ]
    },
    {
     "name": "stdout",
     "output_type": "stream",
     "text": [
      "Starting epoch 276/313\n"
     ]
    },
    {
     "name": "stderr",
     "output_type": "stream",
     "text": [
      "100%|██████████| 16/16 [00:05<00:00,  2.98it/s]\n"
     ]
    },
    {
     "name": "stdout",
     "output_type": "stream",
     "text": [
      "Starting epoch 277/313\n"
     ]
    },
    {
     "name": "stderr",
     "output_type": "stream",
     "text": [
      "100%|██████████| 16/16 [00:05<00:00,  3.03it/s]\n"
     ]
    },
    {
     "name": "stdout",
     "output_type": "stream",
     "text": [
      "Starting epoch 278/313\n"
     ]
    },
    {
     "name": "stderr",
     "output_type": "stream",
     "text": [
      "100%|██████████| 16/16 [00:05<00:00,  2.86it/s]\n"
     ]
    },
    {
     "name": "stdout",
     "output_type": "stream",
     "text": [
      "Starting epoch 279/313\n"
     ]
    },
    {
     "name": "stderr",
     "output_type": "stream",
     "text": [
      "100%|██████████| 16/16 [00:05<00:00,  2.96it/s]\n"
     ]
    },
    {
     "name": "stdout",
     "output_type": "stream",
     "text": [
      "Starting epoch 280/313\n"
     ]
    },
    {
     "name": "stderr",
     "output_type": "stream",
     "text": [
      "100%|██████████| 16/16 [00:05<00:00,  2.85it/s]\n"
     ]
    },
    {
     "name": "stdout",
     "output_type": "stream",
     "text": [
      "Starting epoch 281/313\n"
     ]
    },
    {
     "name": "stderr",
     "output_type": "stream",
     "text": [
      " 25%|██▌       | 4/16 [00:01<00:04,  2.97it/s]"
     ]
    },
    {
     "name": "stdout",
     "output_type": "stream",
     "text": [
      "----------------------------\n",
      "| frame_loss    | 81.7     |\n",
      "| frame_loss_q0 | 13.4     |\n",
      "| frame_loss_q1 | 61.8     |\n",
      "| frame_loss_q2 | 125      |\n",
      "| frame_loss_q3 | 154      |\n",
      "| grad_norm     | 184      |\n",
      "| loss          | 688      |\n",
      "| loss_q0       | 466      |\n",
      "| loss_q1       | 581      |\n",
      "| loss_q2       | 744      |\n",
      "| loss_q3       | 1.12e+03 |\n",
      "| param_norm    | 96.2     |\n",
      "| rcxyz_mse     | 26.2     |\n",
      "| rcxyz_mse_q0  | 7.67     |\n",
      "| rcxyz_mse_q1  | 14.8     |\n",
      "| rcxyz_mse_q2  | 32.4     |\n",
      "| rcxyz_mse_q3  | 64.3     |\n",
      "| samples       | 4.5e+03  |\n",
      "| step          | 4.5e+03  |\n",
      "| vel_mse       | 34.4     |\n",
      "| vel_mse_q0    | 37.6     |\n",
      "| vel_mse_q1    | 37.1     |\n",
      "| vel_mse_q2    | 29.5     |\n",
      "| vel_mse_q3    | 32.8     |\n",
      "----------------------------\n"
     ]
    },
    {
     "name": "stderr",
     "output_type": "stream",
     "text": [
      " 31%|███▏      | 5/16 [00:01<00:03,  3.02it/s]"
     ]
    },
    {
     "name": "stdout",
     "output_type": "stream",
     "text": [
      "step[4500]: loss[687.68404]\n"
     ]
    },
    {
     "name": "stderr",
     "output_type": "stream",
     "text": [
      "100%|██████████| 16/16 [00:05<00:00,  3.05it/s]\n"
     ]
    },
    {
     "name": "stdout",
     "output_type": "stream",
     "text": [
      "Starting epoch 282/313\n"
     ]
    },
    {
     "name": "stderr",
     "output_type": "stream",
     "text": [
      "100%|██████████| 16/16 [00:05<00:00,  2.94it/s]\n"
     ]
    },
    {
     "name": "stdout",
     "output_type": "stream",
     "text": [
      "Starting epoch 283/313\n"
     ]
    },
    {
     "name": "stderr",
     "output_type": "stream",
     "text": [
      "100%|██████████| 16/16 [00:05<00:00,  2.96it/s]\n"
     ]
    },
    {
     "name": "stdout",
     "output_type": "stream",
     "text": [
      "Starting epoch 284/313\n"
     ]
    },
    {
     "name": "stderr",
     "output_type": "stream",
     "text": [
      "100%|██████████| 16/16 [00:05<00:00,  2.88it/s]\n"
     ]
    },
    {
     "name": "stdout",
     "output_type": "stream",
     "text": [
      "Starting epoch 285/313\n"
     ]
    },
    {
     "name": "stderr",
     "output_type": "stream",
     "text": [
      "100%|██████████| 16/16 [00:05<00:00,  2.78it/s]\n"
     ]
    },
    {
     "name": "stdout",
     "output_type": "stream",
     "text": [
      "Starting epoch 286/313\n"
     ]
    },
    {
     "name": "stderr",
     "output_type": "stream",
     "text": [
      "100%|██████████| 16/16 [00:05<00:00,  3.13it/s]\n"
     ]
    },
    {
     "name": "stdout",
     "output_type": "stream",
     "text": [
      "Starting epoch 287/313\n"
     ]
    },
    {
     "name": "stderr",
     "output_type": "stream",
     "text": [
      "100%|██████████| 16/16 [00:05<00:00,  2.84it/s]\n"
     ]
    },
    {
     "name": "stdout",
     "output_type": "stream",
     "text": [
      "Starting epoch 288/313\n"
     ]
    },
    {
     "name": "stderr",
     "output_type": "stream",
     "text": [
      "100%|██████████| 16/16 [00:05<00:00,  3.00it/s]\n"
     ]
    },
    {
     "name": "stdout",
     "output_type": "stream",
     "text": [
      "Starting epoch 289/313\n"
     ]
    },
    {
     "name": "stderr",
     "output_type": "stream",
     "text": [
      "100%|██████████| 16/16 [00:05<00:00,  2.85it/s]\n"
     ]
    },
    {
     "name": "stdout",
     "output_type": "stream",
     "text": [
      "Starting epoch 290/313\n"
     ]
    },
    {
     "name": "stderr",
     "output_type": "stream",
     "text": [
      " 62%|██████▎   | 10/16 [00:03<00:02,  2.98it/s]"
     ]
    },
    {
     "name": "stdout",
     "output_type": "stream",
     "text": [
      "----------------------------\n",
      "| frame_loss    | 101      |\n",
      "| frame_loss_q0 | 11.9     |\n",
      "| frame_loss_q1 | 69.1     |\n",
      "| frame_loss_q2 | 123      |\n",
      "| frame_loss_q3 | 153      |\n",
      "| grad_norm     | 178      |\n",
      "| loss          | 767      |\n",
      "| loss_q0       | 408      |\n",
      "| loss_q1       | 541      |\n",
      "| loss_q2       | 801      |\n",
      "| loss_q3       | 1.08e+03 |\n",
      "| param_norm    | 96.2     |\n",
      "| rcxyz_mse     | 34.2     |\n",
      "| rcxyz_mse_q0  | 7.38     |\n",
      "| rcxyz_mse_q1  | 15.6     |\n",
      "| rcxyz_mse_q2  | 33.7     |\n",
      "| rcxyz_mse_q3  | 60       |\n",
      "| samples       | 4.65e+03 |\n",
      "| step          | 4.65e+03 |\n",
      "| vel_mse       | 32.4     |\n",
      "| vel_mse_q0    | 32.2     |\n",
      "| vel_mse_q1    | 31.5     |\n",
      "| vel_mse_q2    | 34       |\n",
      "| vel_mse_q3    | 32.2     |\n",
      "----------------------------\n"
     ]
    },
    {
     "name": "stderr",
     "output_type": "stream",
     "text": [
      " 69%|██████▉   | 11/16 [00:03<00:01,  3.02it/s]"
     ]
    },
    {
     "name": "stdout",
     "output_type": "stream",
     "text": [
      "step[4650]: loss[767.31959]\n"
     ]
    },
    {
     "name": "stderr",
     "output_type": "stream",
     "text": [
      "100%|██████████| 16/16 [00:05<00:00,  2.97it/s]\n"
     ]
    },
    {
     "name": "stdout",
     "output_type": "stream",
     "text": [
      "Starting epoch 291/313\n"
     ]
    },
    {
     "name": "stderr",
     "output_type": "stream",
     "text": [
      "100%|██████████| 16/16 [00:05<00:00,  2.94it/s]\n"
     ]
    },
    {
     "name": "stdout",
     "output_type": "stream",
     "text": [
      "Starting epoch 292/313\n"
     ]
    },
    {
     "name": "stderr",
     "output_type": "stream",
     "text": [
      "100%|██████████| 16/16 [00:05<00:00,  2.91it/s]\n"
     ]
    },
    {
     "name": "stdout",
     "output_type": "stream",
     "text": [
      "Starting epoch 293/313\n"
     ]
    },
    {
     "name": "stderr",
     "output_type": "stream",
     "text": [
      "100%|██████████| 16/16 [00:05<00:00,  2.91it/s]\n"
     ]
    },
    {
     "name": "stdout",
     "output_type": "stream",
     "text": [
      "Starting epoch 294/313\n"
     ]
    },
    {
     "name": "stderr",
     "output_type": "stream",
     "text": [
      "100%|██████████| 16/16 [00:05<00:00,  2.99it/s]\n"
     ]
    },
    {
     "name": "stdout",
     "output_type": "stream",
     "text": [
      "Starting epoch 295/313\n"
     ]
    },
    {
     "name": "stderr",
     "output_type": "stream",
     "text": [
      "100%|██████████| 16/16 [00:05<00:00,  3.04it/s]\n"
     ]
    },
    {
     "name": "stdout",
     "output_type": "stream",
     "text": [
      "Starting epoch 296/313\n"
     ]
    },
    {
     "name": "stderr",
     "output_type": "stream",
     "text": [
      "100%|██████████| 16/16 [00:05<00:00,  2.94it/s]\n"
     ]
    },
    {
     "name": "stdout",
     "output_type": "stream",
     "text": [
      "Starting epoch 297/313\n"
     ]
    },
    {
     "name": "stderr",
     "output_type": "stream",
     "text": [
      "100%|██████████| 16/16 [00:05<00:00,  3.04it/s]\n"
     ]
    },
    {
     "name": "stdout",
     "output_type": "stream",
     "text": [
      "Starting epoch 298/313\n"
     ]
    },
    {
     "name": "stderr",
     "output_type": "stream",
     "text": [
      "100%|██████████| 16/16 [00:05<00:00,  3.10it/s]\n"
     ]
    },
    {
     "name": "stdout",
     "output_type": "stream",
     "text": [
      "Starting epoch 299/313\n"
     ]
    },
    {
     "name": "stderr",
     "output_type": "stream",
     "text": [
      "100%|██████████| 16/16 [00:05<00:00,  3.12it/s]\n"
     ]
    },
    {
     "name": "stdout",
     "output_type": "stream",
     "text": [
      "Starting epoch 300/313\n"
     ]
    },
    {
     "name": "stderr",
     "output_type": "stream",
     "text": [
      "  0%|          | 0/16 [00:00<?, ?it/s]"
     ]
    },
    {
     "name": "stdout",
     "output_type": "stream",
     "text": [
      "----------------------------\n",
      "| frame_loss    | 87.1     |\n",
      "| frame_loss_q0 | 15.7     |\n",
      "| frame_loss_q1 | 63.8     |\n",
      "| frame_loss_q2 | 126      |\n",
      "| frame_loss_q3 | 152      |\n",
      "| grad_norm     | 179      |\n",
      "| loss          | 712      |\n",
      "| loss_q0       | 485      |\n",
      "| loss_q1       | 561      |\n",
      "| loss_q2       | 749      |\n",
      "| loss_q3       | 1.09e+03 |\n",
      "| param_norm    | 96.2     |\n",
      "| rcxyz_mse     | 28.6     |\n",
      "| rcxyz_mse_q0  | 8.55     |\n",
      "| rcxyz_mse_q1  | 16.4     |\n",
      "| rcxyz_mse_q2  | 32.8     |\n",
      "| rcxyz_mse_q3  | 59.3     |\n",
      "| samples       | 4.8e+03  |\n",
      "| step          | 4.8e+03  |\n",
      "| vel_mse       | 33.9     |\n",
      "| vel_mse_q0    | 38.4     |\n",
      "| vel_mse_q1    | 33.3     |\n",
      "| vel_mse_q2    | 29.5     |\n",
      "| vel_mse_q3    | 34       |\n",
      "----------------------------\n"
     ]
    },
    {
     "name": "stderr",
     "output_type": "stream",
     "text": [
      "  6%|▋         | 1/16 [00:00<00:04,  3.30it/s]"
     ]
    },
    {
     "name": "stdout",
     "output_type": "stream",
     "text": [
      "step[4800]: loss[712.17582]\n"
     ]
    },
    {
     "name": "stderr",
     "output_type": "stream",
     "text": [
      "100%|██████████| 16/16 [00:05<00:00,  3.03it/s]\n"
     ]
    },
    {
     "name": "stdout",
     "output_type": "stream",
     "text": [
      "Starting epoch 301/313\n"
     ]
    },
    {
     "name": "stderr",
     "output_type": "stream",
     "text": [
      "100%|██████████| 16/16 [00:04<00:00,  3.22it/s]\n"
     ]
    },
    {
     "name": "stdout",
     "output_type": "stream",
     "text": [
      "Starting epoch 302/313\n"
     ]
    },
    {
     "name": "stderr",
     "output_type": "stream",
     "text": [
      "100%|██████████| 16/16 [00:05<00:00,  3.03it/s]\n"
     ]
    },
    {
     "name": "stdout",
     "output_type": "stream",
     "text": [
      "Starting epoch 303/313\n"
     ]
    },
    {
     "name": "stderr",
     "output_type": "stream",
     "text": [
      "100%|██████████| 16/16 [00:05<00:00,  3.13it/s]\n"
     ]
    },
    {
     "name": "stdout",
     "output_type": "stream",
     "text": [
      "Starting epoch 304/313\n"
     ]
    },
    {
     "name": "stderr",
     "output_type": "stream",
     "text": [
      "100%|██████████| 16/16 [00:05<00:00,  2.96it/s]\n"
     ]
    },
    {
     "name": "stdout",
     "output_type": "stream",
     "text": [
      "Starting epoch 305/313\n"
     ]
    },
    {
     "name": "stderr",
     "output_type": "stream",
     "text": [
      "100%|██████████| 16/16 [00:05<00:00,  3.07it/s]\n"
     ]
    },
    {
     "name": "stdout",
     "output_type": "stream",
     "text": [
      "Starting epoch 306/313\n"
     ]
    },
    {
     "name": "stderr",
     "output_type": "stream",
     "text": [
      "100%|██████████| 16/16 [00:05<00:00,  3.12it/s]\n"
     ]
    },
    {
     "name": "stdout",
     "output_type": "stream",
     "text": [
      "Starting epoch 307/313\n"
     ]
    },
    {
     "name": "stderr",
     "output_type": "stream",
     "text": [
      "100%|██████████| 16/16 [00:05<00:00,  2.99it/s]\n"
     ]
    },
    {
     "name": "stdout",
     "output_type": "stream",
     "text": [
      "Starting epoch 308/313\n"
     ]
    },
    {
     "name": "stderr",
     "output_type": "stream",
     "text": [
      "100%|██████████| 16/16 [00:05<00:00,  3.09it/s]\n"
     ]
    },
    {
     "name": "stdout",
     "output_type": "stream",
     "text": [
      "Starting epoch 309/313\n"
     ]
    },
    {
     "name": "stderr",
     "output_type": "stream",
     "text": [
      " 38%|███▊      | 6/16 [00:02<00:03,  2.82it/s]"
     ]
    },
    {
     "name": "stdout",
     "output_type": "stream",
     "text": [
      "----------------------------\n",
      "| frame_loss    | 94.7     |\n",
      "| frame_loss_q0 | 15.9     |\n",
      "| frame_loss_q1 | 67       |\n",
      "| frame_loss_q2 | 124      |\n",
      "| frame_loss_q3 | 152      |\n",
      "| grad_norm     | 177      |\n",
      "| loss          | 711      |\n",
      "| loss_q0       | 468      |\n",
      "| loss_q1       | 535      |\n",
      "| loss_q2       | 716      |\n",
      "| loss_q3       | 1.05e+03 |\n",
      "| param_norm    | 96.2     |\n",
      "| rcxyz_mse     | 30       |\n",
      "| rcxyz_mse_q0  | 7.58     |\n",
      "| rcxyz_mse_q1  | 15.8     |\n",
      "| rcxyz_mse_q2  | 31.6     |\n",
      "| rcxyz_mse_q3  | 58.2     |\n",
      "| samples       | 4.95e+03 |\n",
      "| step          | 4.95e+03 |\n",
      "| vel_mse       | 31.7     |\n",
      "| vel_mse_q0    | 37.6     |\n",
      "| vel_mse_q1    | 31       |\n",
      "| vel_mse_q2    | 27.6     |\n",
      "| vel_mse_q3    | 31.6     |\n",
      "----------------------------\n"
     ]
    },
    {
     "name": "stderr",
     "output_type": "stream",
     "text": [
      " 44%|████▍     | 7/16 [00:02<00:03,  2.84it/s]"
     ]
    },
    {
     "name": "stdout",
     "output_type": "stream",
     "text": [
      "step[4950]: loss[711.29101]\n"
     ]
    },
    {
     "name": "stderr",
     "output_type": "stream",
     "text": [
      "100%|██████████| 16/16 [00:05<00:00,  2.76it/s]\n"
     ]
    },
    {
     "name": "stdout",
     "output_type": "stream",
     "text": [
      "Starting epoch 310/313\n"
     ]
    },
    {
     "name": "stderr",
     "output_type": "stream",
     "text": [
      "100%|██████████| 16/16 [00:05<00:00,  2.73it/s]\n"
     ]
    },
    {
     "name": "stdout",
     "output_type": "stream",
     "text": [
      "Starting epoch 311/313\n"
     ]
    },
    {
     "name": "stderr",
     "output_type": "stream",
     "text": [
      "100%|██████████| 16/16 [00:05<00:00,  3.00it/s]\n"
     ]
    },
    {
     "name": "stdout",
     "output_type": "stream",
     "text": [
      "Starting epoch 312/313\n"
     ]
    },
    {
     "name": "stderr",
     "output_type": "stream",
     "text": [
      " 50%|█████     | 8/16 [00:02<00:02,  2.83it/s]"
     ]
    },
    {
     "name": "stdout",
     "output_type": "stream",
     "text": [
      "saving model...\n"
     ]
    },
    {
     "name": "stderr",
     "output_type": "stream",
     "text": [
      " 56%|█████▋    | 9/16 [00:03<00:02,  2.66it/s]"
     ]
    },
    {
     "name": "stdout",
     "output_type": "stream",
     "text": [
      "Skipping evaluation for now.\n"
     ]
    },
    {
     "name": "stderr",
     "output_type": "stream",
     "text": [
      "100%|██████████| 16/16 [00:05<00:00,  2.84it/s]"
     ]
    },
    {
     "name": "stdout",
     "output_type": "stream",
     "text": [
      "saving model...\n",
      "Skipping evaluation for now.\n"
     ]
    },
    {
     "name": "stderr",
     "output_type": "stream",
     "text": [
      "\n"
     ]
    }
   ],
   "source": [
    "from train.training_loop import TrainLoop\n",
    "TrainLoop(args, None , model, diffusion, dataloader).run_loop()"
   ]
  },
  {
   "cell_type": "code",
   "execution_count": 42,
   "metadata": {},
   "outputs": [
    {
     "data": {
      "text/plain": [
       "torch.Size([78, 44])"
      ]
     },
     "execution_count": 42,
     "metadata": {},
     "output_type": "execute_result"
    }
   ],
   "source": [
    "dataset[0].shape"
   ]
  },
  {
   "cell_type": "code",
   "execution_count": 43,
   "metadata": {},
   "outputs": [],
   "source": [
    "num_frames = dataset[0].shape[0]\n",
    "num_feats = dataset[0].shape[1]"
   ]
  },
  {
   "cell_type": "code",
   "execution_count": 44,
   "metadata": {},
   "outputs": [
    {
     "data": {
      "text/plain": [
       "3"
      ]
     },
     "execution_count": 44,
     "metadata": {},
     "output_type": "execute_result"
    }
   ],
   "source": [
    "args.num_repetitions"
   ]
  },
  {
   "cell_type": "code",
   "execution_count": 45,
   "metadata": {},
   "outputs": [
    {
     "name": "stdout",
     "output_type": "stream",
     "text": [
      "### Sampling [repetitions #0]\n"
     ]
    },
    {
     "name": "stderr",
     "output_type": "stream",
     "text": [
      "100%|██████████| 1000/1000 [00:04<00:00, 212.13it/s]\n"
     ]
    },
    {
     "name": "stdout",
     "output_type": "stream",
     "text": [
      "### Sampling [repetitions #1]\n"
     ]
    },
    {
     "name": "stderr",
     "output_type": "stream",
     "text": [
      "100%|██████████| 1000/1000 [00:05<00:00, 194.53it/s]\n"
     ]
    },
    {
     "name": "stdout",
     "output_type": "stream",
     "text": [
      "### Sampling [repetitions #2]\n"
     ]
    },
    {
     "name": "stderr",
     "output_type": "stream",
     "text": [
      "100%|██████████| 1000/1000 [00:05<00:00, 192.18it/s]\n"
     ]
    }
   ],
   "source": [
    "sample_batch_size = 1\n",
    "\n",
    "all_motions = []\n",
    "for rep_i in range(args.num_repetitions):\n",
    "    print(f'### Sampling [repetitions #{rep_i}]')\n",
    "\n",
    "    sample_fn = diffusion.p_sample_loop\n",
    "\n",
    "    sample = sample_fn(\n",
    "        model,\n",
    "        (sample_batch_size, num_frames, num_feats),\n",
    "        clip_denoised=False,\n",
    "        model_kwargs={\"y\": {}},\n",
    "        skip_timesteps=0,  # 0 is the default value - i.e. don't skip any step\n",
    "        init_image=None,\n",
    "        progress=True,\n",
    "        dump_steps=None,\n",
    "        noise=None,\n",
    "        const_noise=False,\n",
    "    )\n",
    "\n",
    "    all_motions.append(sample.cpu().numpy())"
   ]
  },
  {
   "cell_type": "code",
   "execution_count": 46,
   "metadata": {},
   "outputs": [
    {
     "data": {
      "text/plain": [
       "(3, 78, 44)"
      ]
     },
     "execution_count": 46,
     "metadata": {},
     "output_type": "execute_result"
    }
   ],
   "source": [
    "all_motions = np.concatenate(all_motions, axis=0)\n",
    "all_motions.shape"
   ]
  },
  {
   "cell_type": "code",
   "execution_count": 47,
   "metadata": {},
   "outputs": [],
   "source": [
    "dura = 0.0167\n",
    "for motion in all_motions:\n",
    "    for frame in motion:\n",
    "        frame[0] = dura"
   ]
  },
  {
   "cell_type": "code",
   "execution_count": 48,
   "metadata": {},
   "outputs": [
    {
     "name": "stdout",
     "output_type": "stream",
     "text": [
      "Motion 0 saved as motion_0.npy\n",
      "Motion 1 saved as motion_1.npy\n",
      "Motion 2 saved as motion_2.npy\n"
     ]
    }
   ],
   "source": [
    "import numpy as np\n",
    "\n",
    "def save_motions(all_motions, output_dir):\n",
    "    for i, motion in enumerate(all_motions):\n",
    "        filename = f\"motion_{i}.npy\"\n",
    "        filepath = os.path.join(output_dir, filename)\n",
    "        np.save(filepath, motion)\n",
    "        print(f\"Motion {i} saved as {filename}\")\n",
    "\n",
    "save_motions(all_motions, f\"/home/kenji/Fyp/DeepMimic_mujoco/diffusion/logs/{expname}/sampled_motions/\")"
   ]
  },
  {
   "cell_type": "code",
   "execution_count": null,
   "metadata": {},
   "outputs": [],
   "source": []
  }
 ],
 "metadata": {
  "kernelspec": {
   "display_name": "fyp",
   "language": "python",
   "name": "python3"
  },
  "language_info": {
   "codemirror_mode": {
    "name": "ipython",
    "version": 3
   },
   "file_extension": ".py",
   "mimetype": "text/x-python",
   "name": "python",
   "nbconvert_exporter": "python",
   "pygments_lexer": "ipython3",
   "version": "3.8.18"
  }
 },
 "nbformat": 4,
 "nbformat_minor": 2
}
